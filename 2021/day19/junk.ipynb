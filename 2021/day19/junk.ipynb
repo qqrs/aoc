{
 "cells": [
  {
   "cell_type": "code",
   "execution_count": 8,
   "id": "0701c05e",
   "metadata": {},
   "outputs": [],
   "source": [
    "from pprint import pprint"
   ]
  },
  {
   "cell_type": "code",
   "execution_count": 102,
   "id": "609979aa",
   "metadata": {},
   "outputs": [],
   "source": [
    "import itertools\n",
    "from collections import namedtuple, defaultdict\n",
    "from dataclasses import dataclass"
   ]
  },
  {
   "cell_type": "code",
   "execution_count": 222,
   "id": "378056a5",
   "metadata": {},
   "outputs": [],
   "source": [
    "import numpy as np\n",
    "from sklearn.metrics.pairwise import euclidean_distances\n",
    "from sklearn.metrics.pairwise import cosine_similarity\n",
    "import vg"
   ]
  },
  {
   "cell_type": "code",
   "execution_count": null,
   "id": "13db1d14",
   "metadata": {},
   "outputs": [],
   "source": [
    "\n",
    "\n",
    "In [21]: @dataclass\n",
    "    ...: class InventoryItem:\n",
    "    ...:     '''Class for keeping track of an item in inventory.'''\n",
    "    ...:     name: str\n",
    "    ...:     unit_price: float\n",
    "    ...:     quantity_on_hand: int = 0\n",
    "    ...: \n",
    "    ...:     def total_cost(self) -> float:\n",
    "    ...:         return self.unit_price * self.quantity_on_hand\n",
    "    ...:    \n"
   ]
  },
  {
   "cell_type": "code",
   "execution_count": 113,
   "id": "b71a1b31",
   "metadata": {},
   "outputs": [],
   "source": [
    "@dataclass\n",
    "class Scanner:\n",
    "    _id: int\n",
    "    pings: list = None\n",
    "    pairs: list = None"
   ]
  },
  {
   "cell_type": "code",
   "execution_count": 234,
   "id": "2e1d1d4d",
   "metadata": {},
   "outputs": [],
   "source": [
    "Ping = namedtuple('Ping', ['x', 'y', 'z'])\n",
    "Pair = namedtuple('Pair', ['a', 'b', 'f'])\n",
    "Fingerprint = namedtuple('Fingerprint', ['pair', 'scanner'])"
   ]
  },
  {
   "cell_type": "code",
   "execution_count": 6,
   "id": "cd3d59e6",
   "metadata": {},
   "outputs": [],
   "source": [
    "EXAMPLE1 = \"\"\"--- scanner 0 ---\n",
    "0,2\n",
    "4,1\n",
    "3,3\n",
    "\n",
    "--- scanner 1 ---\n",
    "-1,-1\n",
    "-5,0\n",
    "-2,1\"\"\""
   ]
  },
  {
   "cell_type": "code",
   "execution_count": 175,
   "id": "e05ab826",
   "metadata": {},
   "outputs": [],
   "source": [
    "EXAMPLE2 = \"\"\"--- scanner 0 ---\n",
    "-1,-1,1\n",
    "-2,-2,2\n",
    "-3,-3,3\n",
    "-2,-3,1\n",
    "5,6,-4\n",
    "8,0,7\n",
    "\n",
    "--- scanner 0 ---\n",
    "1,-1,1\n",
    "2,-2,2\n",
    "3,-3,3\n",
    "2,-1,3\n",
    "-5,4,-6\n",
    "-8,-7,0\n",
    "\n",
    "--- scanner 0 ---\n",
    "-1,-1,-1\n",
    "-2,-2,-2\n",
    "-3,-3,-3\n",
    "-1,-3,-2\n",
    "4,6,5\n",
    "-7,0,8\n",
    "\n",
    "--- scanner 0 ---\n",
    "1,1,-1\n",
    "2,2,-2\n",
    "3,3,-3\n",
    "1,3,-2\n",
    "-4,-6,5\n",
    "7,0,8\n",
    "\n",
    "--- scanner 0 ---\n",
    "1,1,1\n",
    "2,2,2\n",
    "3,3,3\n",
    "3,1,2\n",
    "-6,-4,-5\n",
    "0,7,-8\"\"\"\n",
    "\n"
   ]
  },
  {
   "cell_type": "code",
   "execution_count": 236,
   "id": "8a237baf",
   "metadata": {},
   "outputs": [],
   "source": [
    "def parse_pings(txt):\n",
    "    scanners = []\n",
    "    for line in txt.splitlines():\n",
    "        if line.startswith('--- scanner '):\n",
    "            pings = []\n",
    "            scanners.append(Scanner(_id=len(scanners), pings=pings, pairs=None))\n",
    "            continue\n",
    "\n",
    "        if not line.rstrip():\n",
    "            continue\n",
    "\n",
    "        vals = [int(v) for v in line.rstrip().split(',')]\n",
    "        if len(vals) == 2:\n",
    "            vals += [0]\n",
    "        ping = Ping(*vals)\n",
    "        pings.append(ping)\n",
    "    return scanners"
   ]
  },
  {
   "cell_type": "code",
   "execution_count": 238,
   "id": "bcad3548",
   "metadata": {},
   "outputs": [],
   "source": [
    "def calc_pair_fingerprints(pings):\n",
    "    pairs = []\n",
    "    for p1, p2 in itertools.combinations(pings, 2):\n",
    "        dx, dy, dz = p1.x - p2.x, p1.y - p2.y, p1.z - p2.z\n",
    "        f = (dx**2 + dy**2 + dz**2,\n",
    "             abs(dx) + abs(dy) + abs(dz),\n",
    "             min(abs(dx), abs(dy), abs(dz)),\n",
    "             max(abs(dx), abs(dy), abs(dz)))\n",
    "        pair = Pair(p1, p2, f)\n",
    "        pairs.append(pair)\n",
    "    return pairs"
   ]
  },
  {
   "cell_type": "code",
   "execution_count": 240,
   "id": "e781b118",
   "metadata": {},
   "outputs": [
    {
     "name": "stdout",
     "output_type": "stream",
     "text": [
      "[Scanner(_id=0, pings=[Ping(x=-1, y=-1, z=1), Ping(x=-2, y=-2, z=2), Ping(x=-3, y=-3, z=3), Ping(x=-2, y=-3, z=1), Ping(x=5, y=6, z=-4), Ping(x=8, y=0, z=7)], pairs=None),\n",
      " Scanner(_id=1, pings=[Ping(x=1, y=-1, z=1), Ping(x=2, y=-2, z=2), Ping(x=3, y=-3, z=3), Ping(x=2, y=-1, z=3), Ping(x=-5, y=4, z=-6), Ping(x=-8, y=-7, z=0)], pairs=None),\n",
      " Scanner(_id=2, pings=[Ping(x=-1, y=-1, z=-1), Ping(x=-2, y=-2, z=-2), Ping(x=-3, y=-3, z=-3), Ping(x=-1, y=-3, z=-2), Ping(x=4, y=6, z=5), Ping(x=-7, y=0, z=8)], pairs=None),\n",
      " Scanner(_id=3, pings=[Ping(x=1, y=1, z=-1), Ping(x=2, y=2, z=-2), Ping(x=3, y=3, z=-3), Ping(x=1, y=3, z=-2), Ping(x=-4, y=-6, z=5), Ping(x=7, y=0, z=8)], pairs=None),\n",
      " Scanner(_id=4, pings=[Ping(x=1, y=1, z=1), Ping(x=2, y=2, z=2), Ping(x=3, y=3, z=3), Ping(x=3, y=1, z=2), Ping(x=-6, y=-4, z=-5), Ping(x=0, y=7, z=-8)], pairs=None)]\n",
      "\n",
      "defaultdict(<class 'list'>,\n",
      "            {(2, 2, 0, 1): [Fingerprint(pair=Pair(a=Ping(x=-2, y=-2, z=2), b=Ping(x=-2, y=-3, z=1), f=(2, 2, 0, 1)), scanner=0),\n",
      "                            Fingerprint(pair=Pair(a=Ping(x=2, y=-2, z=2), b=Ping(x=2, y=-1, z=3), f=(2, 2, 0, 1)), scanner=1),\n",
      "                            Fingerprint(pair=Pair(a=Ping(x=-2, y=-2, z=-2), b=Ping(x=-1, y=-3, z=-2), f=(2, 2, 0, 1)), scanner=2),\n",
      "                            Fingerprint(pair=Pair(a=Ping(x=2, y=2, z=-2), b=Ping(x=1, y=3, z=-2), f=(2, 2, 0, 1)), scanner=3),\n",
      "                            Fingerprint(pair=Pair(a=Ping(x=2, y=2, z=2), b=Ping(x=3, y=1, z=2), f=(2, 2, 0, 1)), scanner=4)],\n",
      "             (3, 3, 1, 1): [Fingerprint(pair=Pair(a=Ping(x=-1, y=-1, z=1), b=Ping(x=-2, y=-2, z=2), f=(3, 3, 1, 1)), scanner=0),\n",
      "                            Fingerprint(pair=Pair(a=Ping(x=-2, y=-2, z=2), b=Ping(x=-3, y=-3, z=3), f=(3, 3, 1, 1)), scanner=0),\n",
      "                            Fingerprint(pair=Pair(a=Ping(x=1, y=-1, z=1), b=Ping(x=2, y=-2, z=2), f=(3, 3, 1, 1)), scanner=1),\n",
      "                            Fingerprint(pair=Pair(a=Ping(x=2, y=-2, z=2), b=Ping(x=3, y=-3, z=3), f=(3, 3, 1, 1)), scanner=1),\n",
      "                            Fingerprint(pair=Pair(a=Ping(x=-1, y=-1, z=-1), b=Ping(x=-2, y=-2, z=-2), f=(3, 3, 1, 1)), scanner=2),\n",
      "                            Fingerprint(pair=Pair(a=Ping(x=-2, y=-2, z=-2), b=Ping(x=-3, y=-3, z=-3), f=(3, 3, 1, 1)), scanner=2),\n",
      "                            Fingerprint(pair=Pair(a=Ping(x=1, y=1, z=-1), b=Ping(x=2, y=2, z=-2), f=(3, 3, 1, 1)), scanner=3),\n",
      "                            Fingerprint(pair=Pair(a=Ping(x=2, y=2, z=-2), b=Ping(x=3, y=3, z=-3), f=(3, 3, 1, 1)), scanner=3),\n",
      "                            Fingerprint(pair=Pair(a=Ping(x=1, y=1, z=1), b=Ping(x=2, y=2, z=2), f=(3, 3, 1, 1)), scanner=4),\n",
      "                            Fingerprint(pair=Pair(a=Ping(x=2, y=2, z=2), b=Ping(x=3, y=3, z=3), f=(3, 3, 1, 1)), scanner=4)],\n",
      "             (5, 3, 0, 2): [Fingerprint(pair=Pair(a=Ping(x=-1, y=-1, z=1), b=Ping(x=-2, y=-3, z=1), f=(5, 3, 0, 2)), scanner=0),\n",
      "                            Fingerprint(pair=Pair(a=Ping(x=-3, y=-3, z=3), b=Ping(x=-2, y=-3, z=1), f=(5, 3, 0, 2)), scanner=0),\n",
      "                            Fingerprint(pair=Pair(a=Ping(x=1, y=-1, z=1), b=Ping(x=2, y=-1, z=3), f=(5, 3, 0, 2)), scanner=1),\n",
      "                            Fingerprint(pair=Pair(a=Ping(x=3, y=-3, z=3), b=Ping(x=2, y=-1, z=3), f=(5, 3, 0, 2)), scanner=1),\n",
      "                            Fingerprint(pair=Pair(a=Ping(x=-1, y=-1, z=-1), b=Ping(x=-1, y=-3, z=-2), f=(5, 3, 0, 2)), scanner=2),\n",
      "                            Fingerprint(pair=Pair(a=Ping(x=-3, y=-3, z=-3), b=Ping(x=-1, y=-3, z=-2), f=(5, 3, 0, 2)), scanner=2),\n",
      "                            Fingerprint(pair=Pair(a=Ping(x=1, y=1, z=-1), b=Ping(x=1, y=3, z=-2), f=(5, 3, 0, 2)), scanner=3),\n",
      "                            Fingerprint(pair=Pair(a=Ping(x=3, y=3, z=-3), b=Ping(x=1, y=3, z=-2), f=(5, 3, 0, 2)), scanner=3),\n",
      "                            Fingerprint(pair=Pair(a=Ping(x=1, y=1, z=1), b=Ping(x=3, y=1, z=2), f=(5, 3, 0, 2)), scanner=4),\n",
      "                            Fingerprint(pair=Pair(a=Ping(x=3, y=3, z=3), b=Ping(x=3, y=1, z=2), f=(5, 3, 0, 2)), scanner=4)],\n",
      "             (12, 6, 2, 2): [Fingerprint(pair=Pair(a=Ping(x=-1, y=-1, z=1), b=Ping(x=-3, y=-3, z=3), f=(12, 6, 2, 2)), scanner=0),\n",
      "                             Fingerprint(pair=Pair(a=Ping(x=1, y=-1, z=1), b=Ping(x=3, y=-3, z=3), f=(12, 6, 2, 2)), scanner=1),\n",
      "                             Fingerprint(pair=Pair(a=Ping(x=-1, y=-1, z=-1), b=Ping(x=-3, y=-3, z=-3), f=(12, 6, 2, 2)), scanner=2),\n",
      "                             Fingerprint(pair=Pair(a=Ping(x=1, y=1, z=-1), b=Ping(x=3, y=3, z=-3), f=(12, 6, 2, 2)), scanner=3),\n",
      "                             Fingerprint(pair=Pair(a=Ping(x=1, y=1, z=1), b=Ping(x=3, y=3, z=3), f=(12, 6, 2, 2)), scanner=4)],\n",
      "             (110, 18, 5, 7): [Fingerprint(pair=Pair(a=Ping(x=-1, y=-1, z=1), b=Ping(x=5, y=6, z=-4), f=(110, 18, 5, 7)), scanner=0),\n",
      "                               Fingerprint(pair=Pair(a=Ping(x=1, y=-1, z=1), b=Ping(x=-5, y=4, z=-6), f=(110, 18, 5, 7)), scanner=1),\n",
      "                               Fingerprint(pair=Pair(a=Ping(x=-1, y=-1, z=-1), b=Ping(x=4, y=6, z=5), f=(110, 18, 5, 7)), scanner=2),\n",
      "                               Fingerprint(pair=Pair(a=Ping(x=1, y=1, z=-1), b=Ping(x=-4, y=-6, z=5), f=(110, 18, 5, 7)), scanner=3),\n",
      "                               Fingerprint(pair=Pair(a=Ping(x=1, y=1, z=1), b=Ping(x=-6, y=-4, z=-5), f=(110, 18, 5, 7)), scanner=4)],\n",
      "             (118, 16, 1, 9): [Fingerprint(pair=Pair(a=Ping(x=-1, y=-1, z=1), b=Ping(x=8, y=0, z=7), f=(118, 16, 1, 9)), scanner=0),\n",
      "                               Fingerprint(pair=Pair(a=Ping(x=1, y=-1, z=1), b=Ping(x=-8, y=-7, z=0), f=(118, 16, 1, 9)), scanner=1),\n",
      "                               Fingerprint(pair=Pair(a=Ping(x=-1, y=-1, z=-1), b=Ping(x=-7, y=0, z=8), f=(118, 16, 1, 9)), scanner=2),\n",
      "                               Fingerprint(pair=Pair(a=Ping(x=1, y=1, z=-1), b=Ping(x=7, y=0, z=8), f=(118, 16, 1, 9)), scanner=3),\n",
      "                               Fingerprint(pair=Pair(a=Ping(x=1, y=1, z=1), b=Ping(x=0, y=7, z=-8), f=(118, 16, 1, 9)), scanner=4)],\n",
      "             (129, 17, 2, 10): [Fingerprint(pair=Pair(a=Ping(x=-2, y=-2, z=2), b=Ping(x=8, y=0, z=7), f=(129, 17, 2, 10)), scanner=0),\n",
      "                                Fingerprint(pair=Pair(a=Ping(x=2, y=-2, z=2), b=Ping(x=-8, y=-7, z=0), f=(129, 17, 2, 10)), scanner=1),\n",
      "                                Fingerprint(pair=Pair(a=Ping(x=-2, y=-2, z=-2), b=Ping(x=-7, y=0, z=8), f=(129, 17, 2, 10)), scanner=2),\n",
      "                                Fingerprint(pair=Pair(a=Ping(x=2, y=2, z=-2), b=Ping(x=7, y=0, z=8), f=(129, 17, 2, 10)), scanner=3),\n",
      "                                Fingerprint(pair=Pair(a=Ping(x=2, y=2, z=2), b=Ping(x=0, y=7, z=-8), f=(129, 17, 2, 10)), scanner=4)],\n",
      "             (145, 19, 3, 10): [Fingerprint(pair=Pair(a=Ping(x=-2, y=-3, z=1), b=Ping(x=8, y=0, z=7), f=(145, 19, 3, 10)), scanner=0),\n",
      "                                Fingerprint(pair=Pair(a=Ping(x=2, y=-1, z=3), b=Ping(x=-8, y=-7, z=0), f=(145, 19, 3, 10)), scanner=1),\n",
      "                                Fingerprint(pair=Pair(a=Ping(x=-1, y=-3, z=-2), b=Ping(x=-7, y=0, z=8), f=(145, 19, 3, 10)), scanner=2),\n",
      "                                Fingerprint(pair=Pair(a=Ping(x=1, y=3, z=-2), b=Ping(x=7, y=0, z=8), f=(145, 19, 3, 10)), scanner=3),\n",
      "                                Fingerprint(pair=Pair(a=Ping(x=3, y=1, z=2), b=Ping(x=0, y=7, z=-8), f=(145, 19, 3, 10)), scanner=4)],\n",
      "             (146, 18, 3, 11): [Fingerprint(pair=Pair(a=Ping(x=-3, y=-3, z=3), b=Ping(x=8, y=0, z=7), f=(146, 18, 3, 11)), scanner=0),\n",
      "                                Fingerprint(pair=Pair(a=Ping(x=3, y=-3, z=3), b=Ping(x=-8, y=-7, z=0), f=(146, 18, 3, 11)), scanner=1),\n",
      "                                Fingerprint(pair=Pair(a=Ping(x=-3, y=-3, z=-3), b=Ping(x=-7, y=0, z=8), f=(146, 18, 3, 11)), scanner=2),\n",
      "                                Fingerprint(pair=Pair(a=Ping(x=3, y=3, z=-3), b=Ping(x=7, y=0, z=8), f=(146, 18, 3, 11)), scanner=3),\n",
      "                                Fingerprint(pair=Pair(a=Ping(x=3, y=3, z=3), b=Ping(x=0, y=7, z=-8), f=(146, 18, 3, 11)), scanner=4)],\n",
      "             (149, 21, 6, 8): [Fingerprint(pair=Pair(a=Ping(x=-2, y=-2, z=2), b=Ping(x=5, y=6, z=-4), f=(149, 21, 6, 8)), scanner=0),\n",
      "                               Fingerprint(pair=Pair(a=Ping(x=2, y=-2, z=2), b=Ping(x=-5, y=4, z=-6), f=(149, 21, 6, 8)), scanner=1),\n",
      "                               Fingerprint(pair=Pair(a=Ping(x=-2, y=-2, z=-2), b=Ping(x=4, y=6, z=5), f=(149, 21, 6, 8)), scanner=2),\n",
      "                               Fingerprint(pair=Pair(a=Ping(x=2, y=2, z=-2), b=Ping(x=-4, y=-6, z=5), f=(149, 21, 6, 8)), scanner=3),\n",
      "                               Fingerprint(pair=Pair(a=Ping(x=2, y=2, z=2), b=Ping(x=-6, y=-4, z=-5), f=(149, 21, 6, 8)), scanner=4)],\n",
      "             (155, 21, 5, 9): [Fingerprint(pair=Pair(a=Ping(x=-2, y=-3, z=1), b=Ping(x=5, y=6, z=-4), f=(155, 21, 5, 9)), scanner=0),\n",
      "                               Fingerprint(pair=Pair(a=Ping(x=2, y=-1, z=3), b=Ping(x=-5, y=4, z=-6), f=(155, 21, 5, 9)), scanner=1),\n",
      "                               Fingerprint(pair=Pair(a=Ping(x=-1, y=-3, z=-2), b=Ping(x=4, y=6, z=5), f=(155, 21, 5, 9)), scanner=2),\n",
      "                               Fingerprint(pair=Pair(a=Ping(x=1, y=3, z=-2), b=Ping(x=-4, y=-6, z=5), f=(155, 21, 5, 9)), scanner=3),\n",
      "                               Fingerprint(pair=Pair(a=Ping(x=3, y=1, z=2), b=Ping(x=-6, y=-4, z=-5), f=(155, 21, 5, 9)), scanner=4)],\n",
      "             (166, 20, 3, 11): [Fingerprint(pair=Pair(a=Ping(x=5, y=6, z=-4), b=Ping(x=8, y=0, z=7), f=(166, 20, 3, 11)), scanner=0),\n",
      "                                Fingerprint(pair=Pair(a=Ping(x=-5, y=4, z=-6), b=Ping(x=-8, y=-7, z=0), f=(166, 20, 3, 11)), scanner=1),\n",
      "                                Fingerprint(pair=Pair(a=Ping(x=4, y=6, z=5), b=Ping(x=-7, y=0, z=8), f=(166, 20, 3, 11)), scanner=2),\n",
      "                                Fingerprint(pair=Pair(a=Ping(x=-4, y=-6, z=5), b=Ping(x=7, y=0, z=8), f=(166, 20, 3, 11)), scanner=3),\n",
      "                                Fingerprint(pair=Pair(a=Ping(x=-6, y=-4, z=-5), b=Ping(x=0, y=7, z=-8), f=(166, 20, 3, 11)), scanner=4)],\n",
      "             (194, 24, 7, 9): [Fingerprint(pair=Pair(a=Ping(x=-3, y=-3, z=3), b=Ping(x=5, y=6, z=-4), f=(194, 24, 7, 9)), scanner=0),\n",
      "                               Fingerprint(pair=Pair(a=Ping(x=3, y=-3, z=3), b=Ping(x=-5, y=4, z=-6), f=(194, 24, 7, 9)), scanner=1),\n",
      "                               Fingerprint(pair=Pair(a=Ping(x=-3, y=-3, z=-3), b=Ping(x=4, y=6, z=5), f=(194, 24, 7, 9)), scanner=2),\n",
      "                               Fingerprint(pair=Pair(a=Ping(x=3, y=3, z=-3), b=Ping(x=-4, y=-6, z=5), f=(194, 24, 7, 9)), scanner=3),\n",
      "                               Fingerprint(pair=Pair(a=Ping(x=3, y=3, z=3), b=Ping(x=-6, y=-4, z=-5), f=(194, 24, 7, 9)), scanner=4)]})\n"
     ]
    }
   ],
   "source": [
    "# txt = EXAMPLE1\n",
    "txt = EXAMPLE2\n",
    "\n",
    "scanners = parse_pings(txt)\n",
    "\n",
    "fingerprints = defaultdict(list)\n",
    "for scanner in scanners:\n",
    "    pairs = calc_pair_fingerprints(scanner.pings)\n",
    "    for pair in pairs:\n",
    "        fingerprints[pair.f].append(Fingerprint(pair, scanner._id))\n",
    "\n",
    "pprint(scanners)\n",
    "print('')\n",
    "pprint(fingerprints)"
   ]
  },
  {
   "cell_type": "code",
   "execution_count": 242,
   "id": "aa5a670c",
   "metadata": {},
   "outputs": [
    {
     "data": {
      "text/plain": [
       "[[Fingerprint(pair=Pair(a=Ping(x=-1, y=-1, z=1), b=Ping(x=-2, y=-2, z=2), f=(3, 3, 1, 1)), scanner=0),\n",
       "  Fingerprint(pair=Pair(a=Ping(x=-2, y=-2, z=2), b=Ping(x=-3, y=-3, z=3), f=(3, 3, 1, 1)), scanner=0),\n",
       "  Fingerprint(pair=Pair(a=Ping(x=1, y=-1, z=1), b=Ping(x=2, y=-2, z=2), f=(3, 3, 1, 1)), scanner=1),\n",
       "  Fingerprint(pair=Pair(a=Ping(x=2, y=-2, z=2), b=Ping(x=3, y=-3, z=3), f=(3, 3, 1, 1)), scanner=1),\n",
       "  Fingerprint(pair=Pair(a=Ping(x=-1, y=-1, z=-1), b=Ping(x=-2, y=-2, z=-2), f=(3, 3, 1, 1)), scanner=2),\n",
       "  Fingerprint(pair=Pair(a=Ping(x=-2, y=-2, z=-2), b=Ping(x=-3, y=-3, z=-3), f=(3, 3, 1, 1)), scanner=2),\n",
       "  Fingerprint(pair=Pair(a=Ping(x=1, y=1, z=-1), b=Ping(x=2, y=2, z=-2), f=(3, 3, 1, 1)), scanner=3),\n",
       "  Fingerprint(pair=Pair(a=Ping(x=2, y=2, z=-2), b=Ping(x=3, y=3, z=-3), f=(3, 3, 1, 1)), scanner=3),\n",
       "  Fingerprint(pair=Pair(a=Ping(x=1, y=1, z=1), b=Ping(x=2, y=2, z=2), f=(3, 3, 1, 1)), scanner=4),\n",
       "  Fingerprint(pair=Pair(a=Ping(x=2, y=2, z=2), b=Ping(x=3, y=3, z=3), f=(3, 3, 1, 1)), scanner=4)],\n",
       " [Fingerprint(pair=Pair(a=Ping(x=-1, y=-1, z=1), b=Ping(x=-3, y=-3, z=3), f=(12, 6, 2, 2)), scanner=0),\n",
       "  Fingerprint(pair=Pair(a=Ping(x=1, y=-1, z=1), b=Ping(x=3, y=-3, z=3), f=(12, 6, 2, 2)), scanner=1),\n",
       "  Fingerprint(pair=Pair(a=Ping(x=-1, y=-1, z=-1), b=Ping(x=-3, y=-3, z=-3), f=(12, 6, 2, 2)), scanner=2),\n",
       "  Fingerprint(pair=Pair(a=Ping(x=1, y=1, z=-1), b=Ping(x=3, y=3, z=-3), f=(12, 6, 2, 2)), scanner=3),\n",
       "  Fingerprint(pair=Pair(a=Ping(x=1, y=1, z=1), b=Ping(x=3, y=3, z=3), f=(12, 6, 2, 2)), scanner=4)],\n",
       " [Fingerprint(pair=Pair(a=Ping(x=-1, y=-1, z=1), b=Ping(x=-2, y=-3, z=1), f=(5, 3, 0, 2)), scanner=0),\n",
       "  Fingerprint(pair=Pair(a=Ping(x=-3, y=-3, z=3), b=Ping(x=-2, y=-3, z=1), f=(5, 3, 0, 2)), scanner=0),\n",
       "  Fingerprint(pair=Pair(a=Ping(x=1, y=-1, z=1), b=Ping(x=2, y=-1, z=3), f=(5, 3, 0, 2)), scanner=1),\n",
       "  Fingerprint(pair=Pair(a=Ping(x=3, y=-3, z=3), b=Ping(x=2, y=-1, z=3), f=(5, 3, 0, 2)), scanner=1),\n",
       "  Fingerprint(pair=Pair(a=Ping(x=-1, y=-1, z=-1), b=Ping(x=-1, y=-3, z=-2), f=(5, 3, 0, 2)), scanner=2),\n",
       "  Fingerprint(pair=Pair(a=Ping(x=-3, y=-3, z=-3), b=Ping(x=-1, y=-3, z=-2), f=(5, 3, 0, 2)), scanner=2),\n",
       "  Fingerprint(pair=Pair(a=Ping(x=1, y=1, z=-1), b=Ping(x=1, y=3, z=-2), f=(5, 3, 0, 2)), scanner=3),\n",
       "  Fingerprint(pair=Pair(a=Ping(x=3, y=3, z=-3), b=Ping(x=1, y=3, z=-2), f=(5, 3, 0, 2)), scanner=3),\n",
       "  Fingerprint(pair=Pair(a=Ping(x=1, y=1, z=1), b=Ping(x=3, y=1, z=2), f=(5, 3, 0, 2)), scanner=4),\n",
       "  Fingerprint(pair=Pair(a=Ping(x=3, y=3, z=3), b=Ping(x=3, y=1, z=2), f=(5, 3, 0, 2)), scanner=4)],\n",
       " [Fingerprint(pair=Pair(a=Ping(x=-1, y=-1, z=1), b=Ping(x=5, y=6, z=-4), f=(110, 18, 5, 7)), scanner=0),\n",
       "  Fingerprint(pair=Pair(a=Ping(x=1, y=-1, z=1), b=Ping(x=-5, y=4, z=-6), f=(110, 18, 5, 7)), scanner=1),\n",
       "  Fingerprint(pair=Pair(a=Ping(x=-1, y=-1, z=-1), b=Ping(x=4, y=6, z=5), f=(110, 18, 5, 7)), scanner=2),\n",
       "  Fingerprint(pair=Pair(a=Ping(x=1, y=1, z=-1), b=Ping(x=-4, y=-6, z=5), f=(110, 18, 5, 7)), scanner=3),\n",
       "  Fingerprint(pair=Pair(a=Ping(x=1, y=1, z=1), b=Ping(x=-6, y=-4, z=-5), f=(110, 18, 5, 7)), scanner=4)],\n",
       " [Fingerprint(pair=Pair(a=Ping(x=-1, y=-1, z=1), b=Ping(x=8, y=0, z=7), f=(118, 16, 1, 9)), scanner=0),\n",
       "  Fingerprint(pair=Pair(a=Ping(x=1, y=-1, z=1), b=Ping(x=-8, y=-7, z=0), f=(118, 16, 1, 9)), scanner=1),\n",
       "  Fingerprint(pair=Pair(a=Ping(x=-1, y=-1, z=-1), b=Ping(x=-7, y=0, z=8), f=(118, 16, 1, 9)), scanner=2),\n",
       "  Fingerprint(pair=Pair(a=Ping(x=1, y=1, z=-1), b=Ping(x=7, y=0, z=8), f=(118, 16, 1, 9)), scanner=3),\n",
       "  Fingerprint(pair=Pair(a=Ping(x=1, y=1, z=1), b=Ping(x=0, y=7, z=-8), f=(118, 16, 1, 9)), scanner=4)],\n",
       " [Fingerprint(pair=Pair(a=Ping(x=-2, y=-2, z=2), b=Ping(x=-2, y=-3, z=1), f=(2, 2, 0, 1)), scanner=0),\n",
       "  Fingerprint(pair=Pair(a=Ping(x=2, y=-2, z=2), b=Ping(x=2, y=-1, z=3), f=(2, 2, 0, 1)), scanner=1),\n",
       "  Fingerprint(pair=Pair(a=Ping(x=-2, y=-2, z=-2), b=Ping(x=-1, y=-3, z=-2), f=(2, 2, 0, 1)), scanner=2),\n",
       "  Fingerprint(pair=Pair(a=Ping(x=2, y=2, z=-2), b=Ping(x=1, y=3, z=-2), f=(2, 2, 0, 1)), scanner=3),\n",
       "  Fingerprint(pair=Pair(a=Ping(x=2, y=2, z=2), b=Ping(x=3, y=1, z=2), f=(2, 2, 0, 1)), scanner=4)],\n",
       " [Fingerprint(pair=Pair(a=Ping(x=-2, y=-2, z=2), b=Ping(x=5, y=6, z=-4), f=(149, 21, 6, 8)), scanner=0),\n",
       "  Fingerprint(pair=Pair(a=Ping(x=2, y=-2, z=2), b=Ping(x=-5, y=4, z=-6), f=(149, 21, 6, 8)), scanner=1),\n",
       "  Fingerprint(pair=Pair(a=Ping(x=-2, y=-2, z=-2), b=Ping(x=4, y=6, z=5), f=(149, 21, 6, 8)), scanner=2),\n",
       "  Fingerprint(pair=Pair(a=Ping(x=2, y=2, z=-2), b=Ping(x=-4, y=-6, z=5), f=(149, 21, 6, 8)), scanner=3),\n",
       "  Fingerprint(pair=Pair(a=Ping(x=2, y=2, z=2), b=Ping(x=-6, y=-4, z=-5), f=(149, 21, 6, 8)), scanner=4)],\n",
       " [Fingerprint(pair=Pair(a=Ping(x=-2, y=-2, z=2), b=Ping(x=8, y=0, z=7), f=(129, 17, 2, 10)), scanner=0),\n",
       "  Fingerprint(pair=Pair(a=Ping(x=2, y=-2, z=2), b=Ping(x=-8, y=-7, z=0), f=(129, 17, 2, 10)), scanner=1),\n",
       "  Fingerprint(pair=Pair(a=Ping(x=-2, y=-2, z=-2), b=Ping(x=-7, y=0, z=8), f=(129, 17, 2, 10)), scanner=2),\n",
       "  Fingerprint(pair=Pair(a=Ping(x=2, y=2, z=-2), b=Ping(x=7, y=0, z=8), f=(129, 17, 2, 10)), scanner=3),\n",
       "  Fingerprint(pair=Pair(a=Ping(x=2, y=2, z=2), b=Ping(x=0, y=7, z=-8), f=(129, 17, 2, 10)), scanner=4)],\n",
       " [Fingerprint(pair=Pair(a=Ping(x=-3, y=-3, z=3), b=Ping(x=5, y=6, z=-4), f=(194, 24, 7, 9)), scanner=0),\n",
       "  Fingerprint(pair=Pair(a=Ping(x=3, y=-3, z=3), b=Ping(x=-5, y=4, z=-6), f=(194, 24, 7, 9)), scanner=1),\n",
       "  Fingerprint(pair=Pair(a=Ping(x=-3, y=-3, z=-3), b=Ping(x=4, y=6, z=5), f=(194, 24, 7, 9)), scanner=2),\n",
       "  Fingerprint(pair=Pair(a=Ping(x=3, y=3, z=-3), b=Ping(x=-4, y=-6, z=5), f=(194, 24, 7, 9)), scanner=3),\n",
       "  Fingerprint(pair=Pair(a=Ping(x=3, y=3, z=3), b=Ping(x=-6, y=-4, z=-5), f=(194, 24, 7, 9)), scanner=4)],\n",
       " [Fingerprint(pair=Pair(a=Ping(x=-3, y=-3, z=3), b=Ping(x=8, y=0, z=7), f=(146, 18, 3, 11)), scanner=0),\n",
       "  Fingerprint(pair=Pair(a=Ping(x=3, y=-3, z=3), b=Ping(x=-8, y=-7, z=0), f=(146, 18, 3, 11)), scanner=1),\n",
       "  Fingerprint(pair=Pair(a=Ping(x=-3, y=-3, z=-3), b=Ping(x=-7, y=0, z=8), f=(146, 18, 3, 11)), scanner=2),\n",
       "  Fingerprint(pair=Pair(a=Ping(x=3, y=3, z=-3), b=Ping(x=7, y=0, z=8), f=(146, 18, 3, 11)), scanner=3),\n",
       "  Fingerprint(pair=Pair(a=Ping(x=3, y=3, z=3), b=Ping(x=0, y=7, z=-8), f=(146, 18, 3, 11)), scanner=4)],\n",
       " [Fingerprint(pair=Pair(a=Ping(x=-2, y=-3, z=1), b=Ping(x=5, y=6, z=-4), f=(155, 21, 5, 9)), scanner=0),\n",
       "  Fingerprint(pair=Pair(a=Ping(x=2, y=-1, z=3), b=Ping(x=-5, y=4, z=-6), f=(155, 21, 5, 9)), scanner=1),\n",
       "  Fingerprint(pair=Pair(a=Ping(x=-1, y=-3, z=-2), b=Ping(x=4, y=6, z=5), f=(155, 21, 5, 9)), scanner=2),\n",
       "  Fingerprint(pair=Pair(a=Ping(x=1, y=3, z=-2), b=Ping(x=-4, y=-6, z=5), f=(155, 21, 5, 9)), scanner=3),\n",
       "  Fingerprint(pair=Pair(a=Ping(x=3, y=1, z=2), b=Ping(x=-6, y=-4, z=-5), f=(155, 21, 5, 9)), scanner=4)],\n",
       " [Fingerprint(pair=Pair(a=Ping(x=-2, y=-3, z=1), b=Ping(x=8, y=0, z=7), f=(145, 19, 3, 10)), scanner=0),\n",
       "  Fingerprint(pair=Pair(a=Ping(x=2, y=-1, z=3), b=Ping(x=-8, y=-7, z=0), f=(145, 19, 3, 10)), scanner=1),\n",
       "  Fingerprint(pair=Pair(a=Ping(x=-1, y=-3, z=-2), b=Ping(x=-7, y=0, z=8), f=(145, 19, 3, 10)), scanner=2),\n",
       "  Fingerprint(pair=Pair(a=Ping(x=1, y=3, z=-2), b=Ping(x=7, y=0, z=8), f=(145, 19, 3, 10)), scanner=3),\n",
       "  Fingerprint(pair=Pair(a=Ping(x=3, y=1, z=2), b=Ping(x=0, y=7, z=-8), f=(145, 19, 3, 10)), scanner=4)],\n",
       " [Fingerprint(pair=Pair(a=Ping(x=5, y=6, z=-4), b=Ping(x=8, y=0, z=7), f=(166, 20, 3, 11)), scanner=0),\n",
       "  Fingerprint(pair=Pair(a=Ping(x=-5, y=4, z=-6), b=Ping(x=-8, y=-7, z=0), f=(166, 20, 3, 11)), scanner=1),\n",
       "  Fingerprint(pair=Pair(a=Ping(x=4, y=6, z=5), b=Ping(x=-7, y=0, z=8), f=(166, 20, 3, 11)), scanner=2),\n",
       "  Fingerprint(pair=Pair(a=Ping(x=-4, y=-6, z=5), b=Ping(x=7, y=0, z=8), f=(166, 20, 3, 11)), scanner=3),\n",
       "  Fingerprint(pair=Pair(a=Ping(x=-6, y=-4, z=-5), b=Ping(x=0, y=7, z=-8), f=(166, 20, 3, 11)), scanner=4)]]"
      ]
     },
     "execution_count": 242,
     "metadata": {},
     "output_type": "execute_result"
    }
   ],
   "source": [
    "list(fingerprints.values())"
   ]
  },
  {
   "cell_type": "code",
   "execution_count": 185,
   "id": "4841f2c4",
   "metadata": {},
   "outputs": [],
   "source": [
    "candidates = fingerprints[12]"
   ]
  },
  {
   "cell_type": "code",
   "execution_count": 186,
   "id": "dcd04a35",
   "metadata": {},
   "outputs": [
    {
     "data": {
      "text/plain": [
       "[Fingerprint(pair=Pair(a=Ping(x=-1, y=-1, z=1), b=Ping(x=-3, y=-3, z=3), dm=12), scanner=0),\n",
       " Fingerprint(pair=Pair(a=Ping(x=1, y=-1, z=1), b=Ping(x=3, y=-3, z=3), dm=12), scanner=1),\n",
       " Fingerprint(pair=Pair(a=Ping(x=-1, y=-1, z=-1), b=Ping(x=-3, y=-3, z=-3), dm=12), scanner=2),\n",
       " Fingerprint(pair=Pair(a=Ping(x=1, y=1, z=-1), b=Ping(x=3, y=3, z=-3), dm=12), scanner=3),\n",
       " Fingerprint(pair=Pair(a=Ping(x=1, y=1, z=1), b=Ping(x=3, y=3, z=3), dm=12), scanner=4)]"
      ]
     },
     "execution_count": 186,
     "metadata": {},
     "output_type": "execute_result"
    }
   ],
   "source": [
    "candidates"
   ]
  },
  {
   "cell_type": "code",
   "execution_count": 188,
   "id": "8cbf3a7d",
   "metadata": {},
   "outputs": [],
   "source": [
    "f1, f2 = candidates[:2]"
   ]
  },
  {
   "cell_type": "code",
   "execution_count": 189,
   "id": "2f6bb4dd",
   "metadata": {},
   "outputs": [],
   "source": [
    "f = f1\n",
    "a,b = f.pair.a, f.pair.b\n",
    "d1 = a.x - b.x, a.y - b.y, a.z - b.z"
   ]
  },
  {
   "cell_type": "code",
   "execution_count": 190,
   "id": "2226e419",
   "metadata": {},
   "outputs": [],
   "source": [
    "f = f2\n",
    "a,b = f.pair.a, f.pair.b\n",
    "d2 = a.x - b.x, a.y - b.y, a.z - b.z"
   ]
  },
  {
   "cell_type": "code",
   "execution_count": 191,
   "id": "684a0406",
   "metadata": {},
   "outputs": [],
   "source": [
    "d1 = np.array(d1)"
   ]
  },
  {
   "cell_type": "code",
   "execution_count": 192,
   "id": "d2b56a28",
   "metadata": {},
   "outputs": [],
   "source": [
    "d2 = np.array(d2)"
   ]
  },
  {
   "cell_type": "code",
   "execution_count": 193,
   "id": "71ea730a",
   "metadata": {},
   "outputs": [
    {
     "data": {
      "text/plain": [
       "array([ 2,  2, -2])"
      ]
     },
     "execution_count": 193,
     "metadata": {},
     "output_type": "execute_result"
    }
   ],
   "source": [
    "d1"
   ]
  },
  {
   "cell_type": "code",
   "execution_count": 194,
   "id": "2b4c5c6d",
   "metadata": {},
   "outputs": [
    {
     "data": {
      "text/plain": [
       "array([-2,  2, -2])"
      ]
     },
     "execution_count": 194,
     "metadata": {},
     "output_type": "execute_result"
    }
   ],
   "source": [
    "d2"
   ]
  },
  {
   "cell_type": "code",
   "execution_count": 252,
   "id": "d51e15e7",
   "metadata": {},
   "outputs": [
    {
     "data": {
      "text/plain": [
       "array([[1.        , 0.33333333],\n",
       "       [0.33333333, 1.        ]])"
      ]
     },
     "execution_count": 252,
     "metadata": {},
     "output_type": "execute_result"
    }
   ],
   "source": [
    "cosine_similarity([d1, d2])"
   ]
  },
  {
   "cell_type": "code",
   "execution_count": 253,
   "id": "9432609a",
   "metadata": {},
   "outputs": [
    {
     "data": {
      "text/plain": [
       "0.8888888888888893"
      ]
     },
     "execution_count": 253,
     "metadata": {},
     "output_type": "execute_result"
    }
   ],
   "source": [
    "np.linalg.det(cosine_similarity([d1, d2]))"
   ]
  },
  {
   "cell_type": "code",
   "execution_count": 254,
   "id": "6b90ba24",
   "metadata": {},
   "outputs": [
    {
     "data": {
      "text/plain": [
       "array([0, 8, 8])"
      ]
     },
     "execution_count": 254,
     "metadata": {},
     "output_type": "execute_result"
    }
   ],
   "source": [
    "np.cross(d1, d2)"
   ]
  },
  {
   "cell_type": "code",
   "execution_count": 255,
   "id": "cb48dbcd",
   "metadata": {},
   "outputs": [
    {
     "data": {
      "text/plain": [
       "array([ 2,  2, -2])"
      ]
     },
     "execution_count": 255,
     "metadata": {},
     "output_type": "execute_result"
    }
   ],
   "source": [
    "d1"
   ]
  },
  {
   "cell_type": "code",
   "execution_count": 256,
   "id": "8e6327a1",
   "metadata": {},
   "outputs": [
    {
     "data": {
      "text/plain": [
       "array([-2,  2, -2])"
      ]
     },
     "execution_count": 256,
     "metadata": {},
     "output_type": "execute_result"
    }
   ],
   "source": [
    "d2"
   ]
  },
  {
   "cell_type": "code",
   "execution_count": 257,
   "id": "95dc7946",
   "metadata": {},
   "outputs": [
    {
     "data": {
      "text/plain": [
       "24"
      ]
     },
     "execution_count": 257,
     "metadata": {},
     "output_type": "execute_result"
    }
   ],
   "source": [
    "len(rot)"
   ]
  },
  {
   "cell_type": "code",
   "execution_count": null,
   "id": "61b5aac8",
   "metadata": {},
   "outputs": [],
   "source": []
  },
  {
   "cell_type": "code",
   "execution_count": 259,
   "id": "3316e595",
   "metadata": {},
   "outputs": [
    {
     "ename": "TypeError",
     "evalue": "'numpy.int64' object is not iterable",
     "output_type": "error",
     "traceback": [
      "\u001b[0;31m---------------------------------------------------------------------------\u001b[0m",
      "\u001b[0;31mTypeError\u001b[0m                                 Traceback (most recent call last)",
      "\u001b[0;32m/var/folders/8z/yb3pjdt136700trk410x38sm0000gn/T/ipykernel_90254/1600826540.py\u001b[0m in \u001b[0;36m<module>\u001b[0;34m\u001b[0m\n\u001b[0;32m----> 1\u001b[0;31m \u001b[0mmatch\u001b[0m\u001b[0;34m(\u001b[0m\u001b[0mtuple\u001b[0m\u001b[0;34m(\u001b[0m\u001b[0md1\u001b[0m\u001b[0;34m)\u001b[0m\u001b[0;34m,\u001b[0m \u001b[0mtuple\u001b[0m\u001b[0;34m(\u001b[0m\u001b[0md2\u001b[0m\u001b[0;34m)\u001b[0m\u001b[0;34m)\u001b[0m\u001b[0;34m\u001b[0m\u001b[0;34m\u001b[0m\u001b[0m\n\u001b[0m",
      "\u001b[0;32m/var/folders/8z/yb3pjdt136700trk410x38sm0000gn/T/ipykernel_90254/396409835.py\u001b[0m in \u001b[0;36mmatch\u001b[0;34m(y, z)\u001b[0m\n\u001b[1;32m     11\u001b[0m     \u001b[0;32mfor\u001b[0m \u001b[0mr\u001b[0m \u001b[0;32min\u001b[0m \u001b[0mrot\u001b[0m\u001b[0;34m:\u001b[0m\u001b[0;34m\u001b[0m\u001b[0;34m\u001b[0m\u001b[0m\n\u001b[1;32m     12\u001b[0m         \u001b[0mrz\u001b[0m \u001b[0;34m=\u001b[0m \u001b[0;34m[\u001b[0m\u001b[0mr\u001b[0m\u001b[0;34m.\u001b[0m\u001b[0mdot\u001b[0m\u001b[0;34m(\u001b[0m\u001b[0mx\u001b[0m\u001b[0;34m)\u001b[0m \u001b[0;32mfor\u001b[0m \u001b[0mx\u001b[0m \u001b[0;32min\u001b[0m \u001b[0mz\u001b[0m\u001b[0;34m]\u001b[0m\u001b[0;34m\u001b[0m\u001b[0;34m\u001b[0m\u001b[0m\n\u001b[0;32m---> 13\u001b[0;31m         \u001b[0ms\u001b[0m \u001b[0;34m=\u001b[0m \u001b[0mshift\u001b[0m\u001b[0;34m(\u001b[0m\u001b[0my\u001b[0m\u001b[0;34m,\u001b[0m \u001b[0mrz\u001b[0m\u001b[0;34m)\u001b[0m\u001b[0;34m\u001b[0m\u001b[0;34m\u001b[0m\u001b[0m\n\u001b[0m\u001b[1;32m     14\u001b[0m         \u001b[0;32mif\u001b[0m \u001b[0ms\u001b[0m \u001b[0;32mis\u001b[0m \u001b[0;32mNone\u001b[0m\u001b[0;34m:\u001b[0m \u001b[0;32mcontinue\u001b[0m\u001b[0;34m\u001b[0m\u001b[0;34m\u001b[0m\u001b[0m\n\u001b[1;32m     15\u001b[0m         \u001b[0;32melse\u001b[0m\u001b[0;34m:\u001b[0m \u001b[0;32mreturn\u001b[0m \u001b[0ms\u001b[0m\u001b[0;34m,\u001b[0m \u001b[0mr\u001b[0m\u001b[0;34m\u001b[0m\u001b[0;34m\u001b[0m\u001b[0m\n",
      "\u001b[0;32m/var/folders/8z/yb3pjdt136700trk410x38sm0000gn/T/ipykernel_90254/396409835.py\u001b[0m in \u001b[0;36mshift\u001b[0;34m(y, z)\u001b[0m\n\u001b[1;32m      1\u001b[0m \u001b[0;32mdef\u001b[0m \u001b[0mshift\u001b[0m\u001b[0;34m(\u001b[0m\u001b[0my\u001b[0m\u001b[0;34m,\u001b[0m \u001b[0mz\u001b[0m\u001b[0;34m)\u001b[0m\u001b[0;34m:\u001b[0m\u001b[0;34m\u001b[0m\u001b[0;34m\u001b[0m\u001b[0m\n\u001b[0;32m----> 2\u001b[0;31m     \u001b[0msy\u001b[0m \u001b[0;34m=\u001b[0m \u001b[0;34m{\u001b[0m\u001b[0mtuple\u001b[0m\u001b[0;34m(\u001b[0m\u001b[0mx\u001b[0m\u001b[0;34m)\u001b[0m \u001b[0;32mfor\u001b[0m \u001b[0mx\u001b[0m \u001b[0;32min\u001b[0m \u001b[0my\u001b[0m\u001b[0;34m}\u001b[0m\u001b[0;34m\u001b[0m\u001b[0;34m\u001b[0m\u001b[0m\n\u001b[0m\u001b[1;32m      3\u001b[0m     \u001b[0;32mfor\u001b[0m \u001b[0ma\u001b[0m \u001b[0;32min\u001b[0m \u001b[0my\u001b[0m\u001b[0;34m:\u001b[0m\u001b[0;34m\u001b[0m\u001b[0;34m\u001b[0m\u001b[0m\n\u001b[1;32m      4\u001b[0m         \u001b[0;32mfor\u001b[0m \u001b[0mb\u001b[0m \u001b[0;32min\u001b[0m \u001b[0mz\u001b[0m\u001b[0;34m:\u001b[0m\u001b[0;34m\u001b[0m\u001b[0;34m\u001b[0m\u001b[0m\n\u001b[1;32m      5\u001b[0m             \u001b[0ms\u001b[0m \u001b[0;34m=\u001b[0m \u001b[0ma\u001b[0m\u001b[0;34m-\u001b[0m\u001b[0mb\u001b[0m\u001b[0;34m\u001b[0m\u001b[0;34m\u001b[0m\u001b[0m\n",
      "\u001b[0;32m/var/folders/8z/yb3pjdt136700trk410x38sm0000gn/T/ipykernel_90254/396409835.py\u001b[0m in \u001b[0;36m<setcomp>\u001b[0;34m(.0)\u001b[0m\n\u001b[1;32m      1\u001b[0m \u001b[0;32mdef\u001b[0m \u001b[0mshift\u001b[0m\u001b[0;34m(\u001b[0m\u001b[0my\u001b[0m\u001b[0;34m,\u001b[0m \u001b[0mz\u001b[0m\u001b[0;34m)\u001b[0m\u001b[0;34m:\u001b[0m\u001b[0;34m\u001b[0m\u001b[0;34m\u001b[0m\u001b[0m\n\u001b[0;32m----> 2\u001b[0;31m     \u001b[0msy\u001b[0m \u001b[0;34m=\u001b[0m \u001b[0;34m{\u001b[0m\u001b[0mtuple\u001b[0m\u001b[0;34m(\u001b[0m\u001b[0mx\u001b[0m\u001b[0;34m)\u001b[0m \u001b[0;32mfor\u001b[0m \u001b[0mx\u001b[0m \u001b[0;32min\u001b[0m \u001b[0my\u001b[0m\u001b[0;34m}\u001b[0m\u001b[0;34m\u001b[0m\u001b[0;34m\u001b[0m\u001b[0m\n\u001b[0m\u001b[1;32m      3\u001b[0m     \u001b[0;32mfor\u001b[0m \u001b[0ma\u001b[0m \u001b[0;32min\u001b[0m \u001b[0my\u001b[0m\u001b[0;34m:\u001b[0m\u001b[0;34m\u001b[0m\u001b[0;34m\u001b[0m\u001b[0m\n\u001b[1;32m      4\u001b[0m         \u001b[0;32mfor\u001b[0m \u001b[0mb\u001b[0m \u001b[0;32min\u001b[0m \u001b[0mz\u001b[0m\u001b[0;34m:\u001b[0m\u001b[0;34m\u001b[0m\u001b[0;34m\u001b[0m\u001b[0m\n\u001b[1;32m      5\u001b[0m             \u001b[0ms\u001b[0m \u001b[0;34m=\u001b[0m \u001b[0ma\u001b[0m\u001b[0;34m-\u001b[0m\u001b[0mb\u001b[0m\u001b[0;34m\u001b[0m\u001b[0;34m\u001b[0m\u001b[0m\n",
      "\u001b[0;31mTypeError\u001b[0m: 'numpy.int64' object is not iterable"
     ]
    }
   ],
   "source": [
    "match(tuple(d1), tuple(d2))"
   ]
  },
  {
   "cell_type": "code",
   "execution_count": null,
   "id": "ae9b0b48",
   "metadata": {},
   "outputs": [],
   "source": []
  },
  {
   "cell_type": "code",
   "execution_count": 249,
   "id": "5fa277e6",
   "metadata": {},
   "outputs": [],
   "source": [
    "def shift(y, z):\n",
    "    sy = {tuple(x) for x in y}\n",
    "    for a in y:\n",
    "        for b in z:\n",
    "            s = a-b\n",
    "            ov = len(sy.intersection(tuple(x+s) for x in z))\n",
    "            if ov >= 12: return s\n",
    "    return None\n",
    "\n",
    "def match(y, z):\n",
    "    for r in rot:\n",
    "        rz = [r.dot(x) for x in z]\n",
    "        s = shift(y, rz)\n",
    "        if s is None: continue\n",
    "        else: return s, r\n",
    "    return None"
   ]
  },
  {
   "cell_type": "code",
   "execution_count": 245,
   "id": "09ad5b28",
   "metadata": {},
   "outputs": [
    {
     "data": {
      "text/plain": [
       "[array([[-1,  0,  0],\n",
       "        [ 0,  0, -1],\n",
       "        [ 0, -1,  0]]),\n",
       " array([[ 0, -1,  0],\n",
       "        [-1,  0,  0],\n",
       "        [ 0,  0, -1]]),\n",
       " array([[ 0,  0, -1],\n",
       "        [ 0, -1,  0],\n",
       "        [-1,  0,  0]]),\n",
       " array([[-1,  0,  0],\n",
       "        [ 0, -1,  0],\n",
       "        [ 0,  0,  1]]),\n",
       " array([[ 0, -1,  0],\n",
       "        [ 0,  0,  1],\n",
       "        [-1,  0,  0]]),\n",
       " array([[ 0,  0,  1],\n",
       "        [-1,  0,  0],\n",
       "        [ 0, -1,  0]]),\n",
       " array([[-1,  0,  0],\n",
       "        [ 0,  1,  0],\n",
       "        [ 0,  0, -1]]),\n",
       " array([[ 0,  1,  0],\n",
       "        [ 0,  0, -1],\n",
       "        [-1,  0,  0]]),\n",
       " array([[ 0,  0, -1],\n",
       "        [-1,  0,  0],\n",
       "        [ 0,  1,  0]]),\n",
       " array([[-1,  0,  0],\n",
       "        [ 0,  0,  1],\n",
       "        [ 0,  1,  0]]),\n",
       " array([[ 0,  1,  0],\n",
       "        [-1,  0,  0],\n",
       "        [ 0,  0,  1]]),\n",
       " array([[ 0,  0,  1],\n",
       "        [ 0,  1,  0],\n",
       "        [-1,  0,  0]]),\n",
       " array([[ 1,  0,  0],\n",
       "        [ 0, -1,  0],\n",
       "        [ 0,  0, -1]]),\n",
       " array([[ 0, -1,  0],\n",
       "        [ 0,  0, -1],\n",
       "        [ 1,  0,  0]]),\n",
       " array([[ 0,  0, -1],\n",
       "        [ 1,  0,  0],\n",
       "        [ 0, -1,  0]]),\n",
       " array([[ 1,  0,  0],\n",
       "        [ 0,  0,  1],\n",
       "        [ 0, -1,  0]]),\n",
       " array([[ 0, -1,  0],\n",
       "        [ 1,  0,  0],\n",
       "        [ 0,  0,  1]]),\n",
       " array([[ 0,  0,  1],\n",
       "        [ 0, -1,  0],\n",
       "        [ 1,  0,  0]]),\n",
       " array([[ 1,  0,  0],\n",
       "        [ 0,  0, -1],\n",
       "        [ 0,  1,  0]]),\n",
       " array([[ 0,  1,  0],\n",
       "        [ 1,  0,  0],\n",
       "        [ 0,  0, -1]]),\n",
       " array([[ 0,  0, -1],\n",
       "        [ 0,  1,  0],\n",
       "        [ 1,  0,  0]]),\n",
       " array([[1, 0, 0],\n",
       "        [0, 1, 0],\n",
       "        [0, 0, 1]]),\n",
       " array([[0, 1, 0],\n",
       "        [0, 0, 1],\n",
       "        [1, 0, 0]]),\n",
       " array([[0, 0, 1],\n",
       "        [1, 0, 0],\n",
       "        [0, 1, 0]])]"
      ]
     },
     "execution_count": 245,
     "metadata": {},
     "output_type": "execute_result"
    }
   ],
   "source": [
    "rot = []\n",
    "for x in [-1, 1]:\n",
    "    for y in [-1, 1]:\n",
    "        for z in [-1, 1]:\n",
    "            for q in itertools.permutations([[x,0,0], [0,y,0], [0,0,z]]):\n",
    "                m = np.array(q)\n",
    "                if np.linalg.det(m) == 1:\n",
    "                    rot.append(m)\n",
    "rot"
   ]
  },
  {
   "cell_type": "code",
   "execution_count": null,
   "id": "08856ea5",
   "metadata": {},
   "outputs": [],
   "source": []
  },
  {
   "cell_type": "code",
   "execution_count": null,
   "id": "924e941c",
   "metadata": {},
   "outputs": [],
   "source": []
  },
  {
   "cell_type": "code",
   "execution_count": 261,
   "id": "61515570",
   "metadata": {},
   "outputs": [],
   "source": [
    "def determinant(m):\n",
    "  det = 0\n",
    "  for i in range(3):\n",
    "    det += (m[0][i]*(m[1][(i+1)%3]*m[2][(i+2)%3] - m[1][(i+2)%3]*m[2][(i+1)%3]))\n",
    "  return det"
   ]
  },
  {
   "cell_type": "code",
   "execution_count": 262,
   "id": "7621d8a3",
   "metadata": {},
   "outputs": [],
   "source": [
    "triples=((1,0,0),(0,1,0),(0,0,1),(-1,0,0),(0,-1,0),(0,0,-1))\n",
    "orientations = [(x,y,z) for x in triples for y in triples for z in triples if determinant((x,y,z)) == 1]"
   ]
  },
  {
   "cell_type": "code",
   "execution_count": 263,
   "id": "7b1249da",
   "metadata": {},
   "outputs": [
    {
     "data": {
      "text/plain": [
       "((1, 0, 0), (0, 1, 0), (0, 0, 1), (-1, 0, 0), (0, -1, 0), (0, 0, -1))"
      ]
     },
     "execution_count": 263,
     "metadata": {},
     "output_type": "execute_result"
    }
   ],
   "source": [
    "triples"
   ]
  },
  {
   "cell_type": "code",
   "execution_count": 267,
   "id": "25bfd416",
   "metadata": {},
   "outputs": [
    {
     "data": {
      "text/plain": [
       "[((1, 0, 0), (0, 1, 0), (0, 0, 1)),\n",
       " ((1, 0, 0), (0, 0, 1), (0, -1, 0)),\n",
       " ((1, 0, 0), (0, -1, 0), (0, 0, -1)),\n",
       " ((1, 0, 0), (0, 0, -1), (0, 1, 0)),\n",
       " ((0, 1, 0), (1, 0, 0), (0, 0, -1)),\n",
       " ((0, 1, 0), (0, 0, 1), (1, 0, 0)),\n",
       " ((0, 1, 0), (-1, 0, 0), (0, 0, 1)),\n",
       " ((0, 1, 0), (0, 0, -1), (-1, 0, 0)),\n",
       " ((0, 0, 1), (1, 0, 0), (0, 1, 0)),\n",
       " ((0, 0, 1), (0, 1, 0), (-1, 0, 0)),\n",
       " ((0, 0, 1), (-1, 0, 0), (0, -1, 0)),\n",
       " ((0, 0, 1), (0, -1, 0), (1, 0, 0)),\n",
       " ((-1, 0, 0), (0, 1, 0), (0, 0, -1)),\n",
       " ((-1, 0, 0), (0, 0, 1), (0, 1, 0)),\n",
       " ((-1, 0, 0), (0, -1, 0), (0, 0, 1)),\n",
       " ((-1, 0, 0), (0, 0, -1), (0, -1, 0)),\n",
       " ((0, -1, 0), (1, 0, 0), (0, 0, 1)),\n",
       " ((0, -1, 0), (0, 0, 1), (-1, 0, 0)),\n",
       " ((0, -1, 0), (-1, 0, 0), (0, 0, -1)),\n",
       " ((0, -1, 0), (0, 0, -1), (1, 0, 0)),\n",
       " ((0, 0, -1), (1, 0, 0), (0, -1, 0)),\n",
       " ((0, 0, -1), (0, 1, 0), (1, 0, 0)),\n",
       " ((0, 0, -1), (-1, 0, 0), (0, 1, 0)),\n",
       " ((0, 0, -1), (0, -1, 0), (-1, 0, 0))]"
      ]
     },
     "execution_count": 267,
     "metadata": {},
     "output_type": "execute_result"
    }
   ],
   "source": [
    "orientations"
   ]
  },
  {
   "cell_type": "code",
   "execution_count": null,
   "id": "a8952282",
   "metadata": {},
   "outputs": [],
   "source": []
  }
 ],
 "metadata": {
  "kernelspec": {
   "display_name": "Python 3 (ipykernel)",
   "language": "python",
   "name": "python3"
  },
  "language_info": {
   "codemirror_mode": {
    "name": "ipython",
    "version": 3
   },
   "file_extension": ".py",
   "mimetype": "text/x-python",
   "name": "python",
   "nbconvert_exporter": "python",
   "pygments_lexer": "ipython3",
   "version": "3.9.9"
  }
 },
 "nbformat": 4,
 "nbformat_minor": 5
}
