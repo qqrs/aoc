{
 "cells": [
  {
   "cell_type": "code",
   "execution_count": 1,
   "id": "b4462e2f",
   "metadata": {},
   "outputs": [],
   "source": [
    "from pprint import pprint"
   ]
  },
  {
   "cell_type": "code",
   "execution_count": 2,
   "id": "cd03b3a5",
   "metadata": {},
   "outputs": [],
   "source": [
    "from dataclasses import dataclass"
   ]
  },
  {
   "cell_type": "code",
   "execution_count": 3,
   "id": "c983796f",
   "metadata": {},
   "outputs": [],
   "source": [
    "from norvig_utils import *"
   ]
  },
  {
   "cell_type": "code",
   "execution_count": null,
   "id": "4c281cbc",
   "metadata": {},
   "outputs": [],
   "source": []
  },
  {
   "cell_type": "code",
   "execution_count": 4,
   "id": "5147aebf",
   "metadata": {},
   "outputs": [],
   "source": [
    "@dataclass\n",
    "class Scanner:\n",
    "    readings: List\n",
    "    pairs: List = None\n",
    "    beacons: List = None"
   ]
  },
  {
   "cell_type": "code",
   "execution_count": 5,
   "id": "f8f25bd1",
   "metadata": {},
   "outputs": [],
   "source": [
    "@dataclass\n",
    "class Pair:\n",
    "    a: Tuple\n",
    "    b: Tuple\n",
    "    vec: Tuple = None"
   ]
  },
  {
   "cell_type": "code",
   "execution_count": 6,
   "id": "be84f7ab",
   "metadata": {},
   "outputs": [],
   "source": [
    "@dataclass\n",
    "class Overlap:\n",
    "    s1: int\n",
    "    s2: int\n",
    "    rotidx: int\n",
    "    cnt: int\n",
    "    ofs: Tuple = None"
   ]
  },
  {
   "cell_type": "code",
   "execution_count": 7,
   "id": "33a02fd2",
   "metadata": {},
   "outputs": [],
   "source": [
    "parse_scanners = lambda filename: parse(filename, lambda lines: mapt(ints, lines.split('\\n')[1:]), sep='\\n\\n')"
   ]
  },
  {
   "cell_type": "code",
   "execution_count": null,
   "id": "f78f9b94",
   "metadata": {},
   "outputs": [],
   "source": []
  },
  {
   "cell_type": "code",
   "execution_count": 8,
   "id": "b5c40465",
   "metadata": {},
   "outputs": [],
   "source": [
    "def sub(a, b):\n",
    "    return (a[0] - b[0], a[1] - b[1], a[2] - b[2])"
   ]
  },
  {
   "cell_type": "code",
   "execution_count": 9,
   "id": "2ec63b25",
   "metadata": {},
   "outputs": [],
   "source": [
    "def mnhdist(a, b):\n",
    "    return sum(abs(a[i] - b[i]) for i in (0,1,2))"
   ]
  },
  {
   "cell_type": "code",
   "execution_count": 10,
   "id": "1a871f1e",
   "metadata": {},
   "outputs": [],
   "source": [
    "@cache\n",
    "def make_rotated(x, y, z):\n",
    "    return (\n",
    "        (x, y, z), (x, z, -y), (x, -y, -z), (x, -z, y),\n",
    "        (-x, -y, z), (-x, -z, -y), (-x, y, -z), (-x, z, y),\n",
    "        (y, -x, z), (y, z, x), (y, x, -z), (y, -z, -x),\n",
    "        (-y, x, z), (-y, -z, x), (-y, -x, -z), (-y, z, -x),\n",
    "        (z, y, -x), (z, x, y), (z, -y, x), (z, -x, -y),\n",
    "        (-z, y, x), (-z, -x, y), (-z, -y, -x), (-z, x, -y)\n",
    "    )"
   ]
  },
  {
   "cell_type": "code",
   "execution_count": null,
   "id": "8d237962",
   "metadata": {},
   "outputs": [],
   "source": []
  },
  {
   "cell_type": "code",
   "execution_count": null,
   "id": "8aa87201",
   "metadata": {},
   "outputs": [],
   "source": []
  },
  {
   "cell_type": "code",
   "execution_count": 11,
   "id": "8fd2e852",
   "metadata": {},
   "outputs": [
    {
     "name": "stdout",
     "output_type": "stream",
     "text": [
      "----------------------------------------------------------------------------------------------------\n",
      "ex_rot.txt ➜ 314 chars, 39 lines; first 7 lines:\n",
      "----------------------------------------------------------------------------------------------------\n",
      "--- scanner 0 ---\n",
      "-1,-1,1\n",
      "-2,-2,2\n",
      "-3,-3,3\n",
      "-2,-3,1\n",
      "5,6,-4\n",
      "8,0,7\n",
      "----------------------------------------------------------------------------------------------------\n",
      "parse() ➜ 5 entries:\n",
      "----------------------------------------------------------------------------------------------------\n",
      "(((-1, -1, 1), (-2, -2, 2), (-3, -3, 3), (-2, -3, 1), (5, 6, -4), (8,  ... -6, -4, -5), (0, 7, -8)))\n",
      "----------------------------------------------------------------------------------------------------\n",
      "True\n",
      "True\n",
      "True\n",
      "True\n",
      "True\n",
      "True\n"
     ]
    }
   ],
   "source": [
    "# Check make_rotated on inputs from ex_rot.txt\n",
    "\n",
    "views = parse_scanners('ex_rot.txt')\n",
    "\n",
    "for points in transpose(views):\n",
    "    base = points[0]\n",
    "    rot = set(make_rotated(*points[0]))\n",
    "    rest = set(points[1:])\n",
    "    print(all(pt in rot for pt in rest))"
   ]
  },
  {
   "cell_type": "code",
   "execution_count": null,
   "id": "0f7ae6f0",
   "metadata": {},
   "outputs": [],
   "source": []
  },
  {
   "cell_type": "code",
   "execution_count": 12,
   "id": "3a920685",
   "metadata": {},
   "outputs": [
    {
     "name": "stdout",
     "output_type": "stream",
     "text": [
      "----------------------------------------------------------------------------------------------------\n",
      "input.txt ➜ 10204 chars, 780 lines; first 7 lines:\n",
      "----------------------------------------------------------------------------------------------------\n",
      "--- scanner 0 ---\n",
      "-757,414,492\n",
      "-593,762,-478\n",
      "-608,779,-508\n",
      "-761,323,468\n",
      "-583,-536,626\n",
      "539,660,453\n",
      "----------------------------------------------------------------------------------------------------\n",
      "parse() ➜ 28 entries:\n",
      "----------------------------------------------------------------------------------------------------\n",
      "(((-757, 414, 492), (-593, 762, -478), (-608, 779, -508), (-761, 323,  ... 457), (795, -714, -541)))\n",
      "----------------------------------------------------------------------------------------------------\n"
     ]
    }
   ],
   "source": [
    "# scanners = mapt(Scanner, parse_scanners('example.txt'))\n",
    "scanners = mapt(Scanner, parse_scanners('input.txt'))"
   ]
  },
  {
   "cell_type": "code",
   "execution_count": 13,
   "id": "f865342f",
   "metadata": {},
   "outputs": [],
   "source": [
    "for s in scanners:\n",
    "    s.pairs = [Pair(a, b, sub(a, b)) for a, b in combinations(s.readings, 2)]"
   ]
  },
  {
   "cell_type": "code",
   "execution_count": 14,
   "id": "400bf0bd",
   "metadata": {
    "scrolled": true
   },
   "outputs": [
    {
     "name": "stdout",
     "output_type": "stream",
     "text": [
      "............................"
     ]
    }
   ],
   "source": [
    "overlaps = []\n",
    "\n",
    "for i, base in enumerate(scanners):\n",
    "    print('.', end='')\n",
    "    for j, scanner in enumerate(scanners):\n",
    "#         if i >= j:\n",
    "        if i == j:\n",
    "            continue\n",
    "        rot_cnt = Counter()\n",
    "        for pair in scanner.pairs:\n",
    "            for k, d in enumerate(make_rotated(*pair.vec)):\n",
    "                for b in base.pairs:\n",
    "                    if b.vec == d:\n",
    "                        rot_cnt[k] += 1\n",
    "        if not rot_cnt:\n",
    "            continue\n",
    "        rot, cnt = rot_cnt.most_common(1)[0]\n",
    "        if cnt < 11:\n",
    "            continue\n",
    "\n",
    "        overlaps.append(Overlap(i, j, rot, cnt))"
   ]
  },
  {
   "cell_type": "code",
   "execution_count": 15,
   "id": "c60d5f93",
   "metadata": {
    "scrolled": false
   },
   "outputs": [
    {
     "name": "stdout",
     "output_type": "stream",
     "text": [
      "............................................................................................"
     ]
    }
   ],
   "source": [
    "for ov in overlaps:\n",
    "    print('.', end='')\n",
    "    s1 = scanners[ov.s1]\n",
    "    s2 = scanners[ov.s2]\n",
    "    rotidx = ov.rotidx\n",
    "\n",
    "    for p1 in s1.pairs:\n",
    "        for p2 in s2.pairs:\n",
    "            p2rot = make_rotated(*p2.vec)[rotidx]\n",
    "            if p2rot == p1.vec:\n",
    "                za = make_rotated(*p2.a)[rotidx]\n",
    "                zb = make_rotated(*p2.b)[rotidx]\n",
    "                ofs = sub(za, p1.a)\n",
    "                assert(ofs == sub(zb, p1.b))\n",
    "                if ov.ofs:\n",
    "                    assert(ofs == ov.ofs)\n",
    "                else:\n",
    "                    ov.ofs = ofs"
   ]
  },
  {
   "cell_type": "code",
   "execution_count": null,
   "id": "2a6b7434",
   "metadata": {},
   "outputs": [],
   "source": []
  },
  {
   "cell_type": "code",
   "execution_count": 16,
   "id": "5fb350a5",
   "metadata": {},
   "outputs": [],
   "source": [
    "overlapping_scanners = defaultdict(list)\n",
    "for ov in overlaps:\n",
    "    overlapping_scanners[ov.s1].append(ov.s2)\n",
    "    \n",
    "ovlookup = {(ov.s1, ov.s2): ov for ov in overlaps}"
   ]
  },
  {
   "cell_type": "code",
   "execution_count": 17,
   "id": "832d72a4",
   "metadata": {
    "scrolled": true
   },
   "outputs": [
    {
     "data": {
      "text/plain": [
       "{(0, 1): Overlap(s1=0, s2=1, rotidx=21, cnt=37, ofs=(1291, 63, 13)),\n",
       " (0, 8): Overlap(s1=0, s2=8, rotidx=7, cnt=24, ofs=(91, 1379, -155)),\n",
       " (0, 9): Overlap(s1=0, s2=9, rotidx=5, cnt=27, ofs=(-44, 44, 1135)),\n",
       " (1, 0): Overlap(s1=1, s2=0, rotidx=15, cnt=37, ofs=(63, -13, 1291)),\n",
       " (1, 8): Overlap(s1=1, s2=8, rotidx=20, cnt=11, ofs=(-1316, -168, 1200)),\n",
       " (1, 11): Overlap(s1=1, s2=11, rotidx=8, cnt=31, ofs=(69, -156, -1192)),\n",
       " (1, 14): Overlap(s1=1, s2=14, rotidx=11, cnt=44, ofs=(21, 1227, 132)),\n",
       " (1, 20): Overlap(s1=1, s2=20, rotidx=23, cnt=37, ofs=(77, -1363, 5)),\n",
       " (1, 21): Overlap(s1=1, s2=21, rotidx=4, cnt=34, ofs=(-1317, -12, -15)),\n",
       " (2, 7): Overlap(s1=2, s2=7, rotidx=7, cnt=39, ofs=(-27, -1143, 16)),\n",
       " (2, 13): Overlap(s1=2, s2=13, rotidx=19, cnt=40, ofs=(-20, 1233, 57)),\n",
       " (2, 18): Overlap(s1=2, s2=18, rotidx=18, cnt=36, ofs=(31, 161, -1070)),\n",
       " (3, 4): Overlap(s1=3, s2=4, rotidx=5, cnt=38, ofs=(-47, -1192, 76)),\n",
       " (3, 14): Overlap(s1=3, s2=14, rotidx=8, cnt=28, ofs=(1269, 73, -20)),\n",
       " (3, 21): Overlap(s1=3, s2=21, rotidx=7, cnt=22, ofs=(-69, -74, 1219)),\n",
       " (4, 3): Overlap(s1=4, s2=3, rotidx=5, cnt=38, ofs=(-47, 76, -1192)),\n",
       " (4, 7): Overlap(s1=4, s2=7, rotidx=15, cnt=40, ofs=(-1249, -32, 29)),\n",
       " (4, 15): Overlap(s1=4, s2=15, rotidx=10, cnt=42, ofs=(-135, -1214, -11)),\n",
       " (4, 17): Overlap(s1=4, s2=17, rotidx=23, cnt=37, ofs=(1, -89, 1254)),\n",
       " (4, 18): Overlap(s1=4, s2=18, rotidx=4, cnt=29, ofs=(-163, 1272, 87)),\n",
       " (4, 21): Overlap(s1=4, s2=21, rotidx=2, cnt=11, ofs=(22, -1143, -1118)),\n",
       " (5, 22): Overlap(s1=5, s2=22, rotidx=5, cnt=33, ofs=(1297, -124, -78)),\n",
       " (5, 26): Overlap(s1=5, s2=26, rotidx=12, cnt=22, ofs=(-1157, 9, -96)),\n",
       " (6, 10): Overlap(s1=6, s2=10, rotidx=7, cnt=44, ofs=(61, -17, -1145)),\n",
       " (6, 15): Overlap(s1=6, s2=15, rotidx=21, cnt=43, ofs=(32, -1115, -49)),\n",
       " (6, 16): Overlap(s1=6, s2=16, rotidx=10, cnt=25, ofs=(-1094, 6, -13)),\n",
       " (6, 25): Overlap(s1=6, s2=25, rotidx=19, cnt=40, ofs=(25, -27, 1187)),\n",
       " (7, 2): Overlap(s1=7, s2=2, rotidx=7, cnt=39, ofs=(-27, -16, 1143)),\n",
       " (7, 4): Overlap(s1=7, s2=4, rotidx=21, cnt=40, ofs=(29, -1249, 32)),\n",
       " (7, 11): Overlap(s1=7, s2=11, rotidx=16, cnt=42, ofs=(-30, 115, -1255)),\n",
       " (7, 12): Overlap(s1=7, s2=12, rotidx=14, cnt=37, ofs=(98, 1132, 79)),\n",
       " (7, 14): Overlap(s1=7, s2=14, rotidx=6, cnt=24, ofs=(1294, 67, 128)),\n",
       " (7, 19): Overlap(s1=7, s2=19, rotidx=8, cnt=51, ofs=(-1233, -41, 101)),\n",
       " (8, 0): Overlap(s1=8, s2=0, rotidx=7, cnt=24, ofs=(91, 155, -1379)),\n",
       " (8, 1): Overlap(s1=8, s2=1, rotidx=16, cnt=11, ofs=(-1200, 168, -1316)),\n",
       " (8, 21): Overlap(s1=8, s2=21, rotidx=18, cnt=22, ofs=(-1215, 156, 1)),\n",
       " (9, 0): Overlap(s1=9, s2=0, rotidx=5, cnt=27, ofs=(-44, 1135, 44)),\n",
       " (9, 14): Overlap(s1=9, s2=14, rotidx=7, cnt=45, ofs=(-1203, -105, 2)),\n",
       " (9, 27): Overlap(s1=9, s2=27, rotidx=13, cnt=43, ofs=(-151, -43, 1226)),\n",
       " (10, 6): Overlap(s1=10, s2=6, rotidx=7, cnt=44, ofs=(61, 1145, 17)),\n",
       " (10, 11): Overlap(s1=10, s2=11, rotidx=18, cnt=34, ofs=(-41, -133, -1025)),\n",
       " (10, 15): Overlap(s1=10, s2=15, rotidx=16, cnt=11, ofs=(29, 1096, -1098)),\n",
       " (10, 20): Overlap(s1=10, s2=20, rotidx=15, cnt=30, ofs=(1156, -141, 182)),\n",
       " (11, 1): Overlap(s1=11, s2=1, rotidx=12, cnt=31, ofs=(-156, -69, 1192)),\n",
       " (11, 7): Overlap(s1=11, s2=7, rotidx=20, cnt=42, ofs=(-1255, -115, 30)),\n",
       " (11, 10): Overlap(s1=11, s2=10, rotidx=18, cnt=34, ofs=(1025, -133, 41)),\n",
       " (11, 15): Overlap(s1=11, s2=15, rotidx=4, cnt=41, ofs=(-73, -1229, 70)),\n",
       " (12, 7): Overlap(s1=12, s2=7, rotidx=14, cnt=37, ofs=(1132, 98, 79)),\n",
       " (13, 2): Overlap(s1=13, s2=2, rotidx=13, cnt=40, ofs=(1233, 57, 20)),\n",
       " (13, 22): Overlap(s1=13, s2=22, rotidx=4, cnt=29, ofs=(-28, 1150, 71)),\n",
       " (14, 1): Overlap(s1=14, s2=1, rotidx=23, cnt=44, ofs=(132, -21, 1227)),\n",
       " (14, 3): Overlap(s1=14, s2=3, rotidx=12, cnt=28, ofs=(73, -1269, 20)),\n",
       " (14, 7): Overlap(s1=14, s2=7, rotidx=6, cnt=24, ofs=(1294, -67, 128)),\n",
       " (14, 9): Overlap(s1=14, s2=9, rotidx=7, cnt=45, ofs=(-1203, -2, 105)),\n",
       " (14, 27): Overlap(s1=14, s2=27, rotidx=10, cnt=11, ofs=(-1052, 1224, 62)),\n",
       " (15, 4): Overlap(s1=15, s2=4, rotidx=10, cnt=42, ofs=(1214, 135, -11)),\n",
       " (15, 6): Overlap(s1=15, s2=6, rotidx=15, cnt=43, ofs=(-1115, 49, 32)),\n",
       " (15, 10): Overlap(s1=15, s2=10, rotidx=20, cnt=11, ofs=(-1098, -1096, -29)),\n",
       " (15, 11): Overlap(s1=15, s2=11, rotidx=4, cnt=41, ofs=(-73, -1229, -70)),\n",
       " (15, 21): Overlap(s1=15, s2=21, rotidx=12, cnt=31, ofs=(71, 157, 1107)),\n",
       " (15, 25): Overlap(s1=15, s2=25, rotidx=2, cnt=12, ofs=(-1088, 1236, 7)),\n",
       " (16, 6): Overlap(s1=16, s2=6, rotidx=10, cnt=25, ofs=(-6, 1094, -13)),\n",
       " (16, 20): Overlap(s1=16, s2=20, rotidx=6, cnt=45, ofs=(159, -1, 1273)),\n",
       " (16, 21): Overlap(s1=16, s2=21, rotidx=11, cnt=31, ofs=(-1192, 19, -121)),\n",
       " (17, 4): Overlap(s1=17, s2=4, rotidx=11, cnt=37, ofs=(89, 1254, 1)),\n",
       " (17, 19): Overlap(s1=17, s2=19, rotidx=16, cnt=39, ofs=(158, -8, 1209)),\n",
       " (18, 2): Overlap(s1=18, s2=2, rotidx=18, cnt=36, ofs=(1070, 161, -31)),\n",
       " (18, 4): Overlap(s1=18, s2=4, rotidx=4, cnt=29, ofs=(-163, 1272, -87)),\n",
       " (18, 22): Overlap(s1=18, s2=22, rotidx=8, cnt=31, ofs=(-23, -1100, 20)),\n",
       " (19, 7): Overlap(s1=19, s2=7, rotidx=12, cnt=51, ofs=(-41, 1233, -101)),\n",
       " (19, 17): Overlap(s1=19, s2=17, rotidx=20, cnt=39, ofs=(1209, 8, -158)),\n",
       " (20, 1): Overlap(s1=20, s2=1, rotidx=11, cnt=37, ofs=(1363, 5, 77)),\n",
       " (20, 10): Overlap(s1=20, s2=10, rotidx=21, cnt=30, ofs=(182, 1156, 141)),\n",
       " (20, 16): Overlap(s1=20, s2=16, rotidx=6, cnt=45, ofs=(159, 1, 1273)),\n",
       " (21, 1): Overlap(s1=21, s2=1, rotidx=4, cnt=34, ofs=(-1317, -12, 15)),\n",
       " (21, 3): Overlap(s1=21, s2=3, rotidx=7, cnt=22, ofs=(-69, -1219, 74)),\n",
       " (21, 4): Overlap(s1=21, s2=4, rotidx=2, cnt=11, ofs=(-22, -1143, -1118)),\n",
       " (21, 8): Overlap(s1=21, s2=8, rotidx=18, cnt=22, ofs=(-1, 156, 1215)),\n",
       " (21, 15): Overlap(s1=21, s2=15, rotidx=8, cnt=31, ofs=(-157, 71, -1107)),\n",
       " (21, 16): Overlap(s1=21, s2=16, rotidx=23, cnt=31, ofs=(-121, 1192, 19)),\n",
       " (22, 5): Overlap(s1=22, s2=5, rotidx=5, cnt=33, ofs=(1297, -78, -124)),\n",
       " (22, 13): Overlap(s1=22, s2=13, rotidx=4, cnt=29, ofs=(-28, 1150, -71)),\n",
       " (22, 18): Overlap(s1=22, s2=18, rotidx=12, cnt=31, ofs=(-1100, 23, -20)),\n",
       " (23, 24): Overlap(s1=23, s2=24, rotidx=10, cnt=18, ofs=(1212, 6, -62)),\n",
       " (23, 27): Overlap(s1=23, s2=27, rotidx=0, cnt=23, ofs=(13, 70, -1208)),\n",
       " (24, 23): Overlap(s1=24, s2=23, rotidx=10, cnt=18, ofs=(-6, -1212, -62)),\n",
       " (25, 6): Overlap(s1=25, s2=6, rotidx=13, cnt=40, ofs=(-27, 1187, -25)),\n",
       " (25, 15): Overlap(s1=25, s2=15, rotidx=2, cnt=12, ofs=(1088, 1236, 7)),\n",
       " (26, 5): Overlap(s1=26, s2=5, rotidx=8, cnt=22, ofs=(-9, -1157, 96)),\n",
       " (27, 9): Overlap(s1=27, s2=9, rotidx=19, cnt=43, ofs=(-1226, -151, -43)),\n",
       " (27, 14): Overlap(s1=27, s2=14, rotidx=10, cnt=11, ofs=(-1224, 1052, 62)),\n",
       " (27, 23): Overlap(s1=27, s2=23, rotidx=0, cnt=23, ofs=(-13, -70, 1208))}"
      ]
     },
     "execution_count": 17,
     "metadata": {},
     "output_type": "execute_result"
    }
   ],
   "source": [
    "ovlookup"
   ]
  },
  {
   "cell_type": "code",
   "execution_count": 18,
   "id": "78bdbe4f",
   "metadata": {},
   "outputs": [
    {
     "data": {
      "text/plain": [
       "defaultdict(list,\n",
       "            {0: [1, 8, 9],\n",
       "             1: [0, 8, 11, 14, 20, 21],\n",
       "             2: [7, 13, 18],\n",
       "             3: [4, 14, 21],\n",
       "             4: [3, 7, 15, 17, 18, 21],\n",
       "             5: [22, 26],\n",
       "             6: [10, 15, 16, 25],\n",
       "             7: [2, 4, 11, 12, 14, 19],\n",
       "             8: [0, 1, 21],\n",
       "             9: [0, 14, 27],\n",
       "             10: [6, 11, 15, 20],\n",
       "             11: [1, 7, 10, 15],\n",
       "             12: [7],\n",
       "             13: [2, 22],\n",
       "             14: [1, 3, 7, 9, 27],\n",
       "             15: [4, 6, 10, 11, 21, 25],\n",
       "             16: [6, 20, 21],\n",
       "             17: [4, 19],\n",
       "             18: [2, 4, 22],\n",
       "             19: [7, 17],\n",
       "             20: [1, 10, 16],\n",
       "             21: [1, 3, 4, 8, 15, 16],\n",
       "             22: [5, 13, 18],\n",
       "             23: [24, 27],\n",
       "             24: [23],\n",
       "             25: [6, 15],\n",
       "             26: [5],\n",
       "             27: [9, 14, 23]})"
      ]
     },
     "execution_count": 18,
     "metadata": {},
     "output_type": "execute_result"
    }
   ],
   "source": [
    "overlapping_scanners"
   ]
  },
  {
   "cell_type": "code",
   "execution_count": null,
   "id": "53c42c83",
   "metadata": {},
   "outputs": [],
   "source": []
  },
  {
   "cell_type": "code",
   "execution_count": 19,
   "id": "449c9a29",
   "metadata": {},
   "outputs": [],
   "source": [
    "def transform_point(p, rotidx, ofs):\n",
    "    prot = make_rotated(*p)[rotidx]\n",
    "    pmov = sub(prot, ofs)\n",
    "    return pmov"
   ]
  },
  {
   "cell_type": "code",
   "execution_count": 20,
   "id": "d5643766",
   "metadata": {},
   "outputs": [],
   "source": [
    "def merge_scanners(dest, src):\n",
    "    # uses globals: scanners, ovlookup\n",
    "    ov = ovlookup[(dest, src)]\n",
    "    \n",
    "    s1 = scanners[ov.s1]\n",
    "    s2 = scanners[ov.s2]\n",
    "    rotidx = ov.rotidx\n",
    "    ofs = ov.ofs\n",
    "\n",
    "    s1.beacons |= {transform_point(p, rotidx, ofs) for p in s2.beacons}\n",
    "    s2.beacons = set()\n",
    "    \n",
    "    s1.neighbors |= {transform_point(p, rotidx, ofs) for p in s2.neighbors}\n",
    "    s2.neighbors = set()"
   ]
  },
  {
   "cell_type": "code",
   "execution_count": null,
   "id": "5e26ac17",
   "metadata": {},
   "outputs": [],
   "source": []
  },
  {
   "cell_type": "code",
   "execution_count": 21,
   "id": "1b99623d",
   "metadata": {},
   "outputs": [
    {
     "name": "stdout",
     "output_type": "stream",
     "text": [
      "[26, 26, 26, 26, 25, 26, 25, 26, 26, 25, 26, 26, 26, 26, 25, 26, 26, 26, 26, 26, 27, 26, 26, 26, 26, 26, 26, 26]\n",
      "[1, 1, 1, 1, 1, 1, 1, 1, 1, 1, 1, 1, 1, 1, 1, 1, 1, 1, 1, 1, 1, 1, 1, 1, 1, 1, 1, 1]\n"
     ]
    }
   ],
   "source": [
    "for s in scanners:\n",
    "    s.beacons = set(s.readings)\n",
    "    s.neighbors = set(((0,0,0),))\n",
    "    \n",
    "print([len(scanners[i].beacons) for i in range(len(scanners))])\n",
    "print([len(scanners[i].neighbors) for i in range(len(scanners))])"
   ]
  },
  {
   "cell_type": "code",
   "execution_count": 22,
   "id": "a91fcf04",
   "metadata": {},
   "outputs": [
    {
     "name": "stdout",
     "output_type": "stream",
     "text": [
      "[323, 0, 0, 0, 0, 0, 0, 0, 0, 0, 0, 0, 0, 0, 0, 0, 0, 0, 0, 0, 0, 0, 0, 0, 0, 0, 0, 0]\n",
      "[28, 0, 0, 0, 0, 0, 0, 0, 0, 0, 0, 0, 0, 0, 0, 0, 0, 0, 0, 0, 0, 0, 0, 0, 0, 0, 0, 0]\n"
     ]
    }
   ],
   "source": [
    "def dfs_merge(g):\n",
    "    seen = set()\n",
    "    \n",
    "    def _dfs(n, p):\n",
    "        if n in seen:\n",
    "            return\n",
    "        seen.add(n)\n",
    "        for m in g[n]:\n",
    "            _dfs(m, n)\n",
    "\n",
    "        if p is not None:\n",
    "            merge_scanners(p, n)\n",
    "        \n",
    "    _dfs(0, None)\n",
    "\n",
    "dfs_merge(overlapping_scanners)\n",
    "print([len(scanners[i].beacons) for i in range(len(scanners))])\n",
    "print([len(scanners[i].neighbors) for i in range(len(scanners))])"
   ]
  },
  {
   "cell_type": "code",
   "execution_count": null,
   "id": "3a967dc3",
   "metadata": {},
   "outputs": [],
   "source": []
  },
  {
   "cell_type": "code",
   "execution_count": 23,
   "id": "5cc3617f",
   "metadata": {},
   "outputs": [
    {
     "name": "stdout",
     "output_type": "stream",
     "text": [
      "part 1 answer\n"
     ]
    },
    {
     "data": {
      "text/plain": [
       "323"
      ]
     },
     "execution_count": 23,
     "metadata": {},
     "output_type": "execute_result"
    }
   ],
   "source": [
    "print('part 1 answer')\n",
    "len(scanners[0].beacons)"
   ]
  },
  {
   "cell_type": "code",
   "execution_count": null,
   "id": "7af32fe5",
   "metadata": {},
   "outputs": [],
   "source": []
  },
  {
   "cell_type": "code",
   "execution_count": 24,
   "id": "d7208795",
   "metadata": {},
   "outputs": [
    {
     "name": "stdout",
     "output_type": "stream",
     "text": [
      "part 2 answer\n"
     ]
    },
    {
     "data": {
      "text/plain": [
       "10685"
      ]
     },
     "execution_count": 24,
     "metadata": {},
     "output_type": "execute_result"
    }
   ],
   "source": [
    "print('part 2 answer')\n",
    "\n",
    "max([mnhdist(a, b) for a,b in combinations(scanners[0].neighbors, 2)])"
   ]
  },
  {
   "cell_type": "code",
   "execution_count": null,
   "id": "54448787",
   "metadata": {},
   "outputs": [],
   "source": []
  }
 ],
 "metadata": {
  "kernelspec": {
   "display_name": "Python 3 (ipykernel)",
   "language": "python",
   "name": "python3"
  },
  "language_info": {
   "codemirror_mode": {
    "name": "ipython",
    "version": 3
   },
   "file_extension": ".py",
   "mimetype": "text/x-python",
   "name": "python",
   "nbconvert_exporter": "python",
   "pygments_lexer": "ipython3",
   "version": "3.9.9"
  }
 },
 "nbformat": 4,
 "nbformat_minor": 5
}
