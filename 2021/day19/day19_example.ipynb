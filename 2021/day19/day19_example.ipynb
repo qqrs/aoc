{
 "cells": [
  {
   "cell_type": "code",
   "execution_count": 1,
   "id": "b4462e2f",
   "metadata": {},
   "outputs": [],
   "source": [
    "from pprint import pprint"
   ]
  },
  {
   "cell_type": "code",
   "execution_count": 2,
   "id": "cd03b3a5",
   "metadata": {},
   "outputs": [],
   "source": [
    "from dataclasses import dataclass"
   ]
  },
  {
   "cell_type": "code",
   "execution_count": 3,
   "id": "c983796f",
   "metadata": {},
   "outputs": [],
   "source": [
    "from norvig_utils import *"
   ]
  },
  {
   "cell_type": "code",
   "execution_count": null,
   "id": "4c281cbc",
   "metadata": {},
   "outputs": [],
   "source": []
  },
  {
   "cell_type": "code",
   "execution_count": 4,
   "id": "5147aebf",
   "metadata": {},
   "outputs": [],
   "source": [
    "@dataclass\n",
    "class Scanner:\n",
    "    readings: List\n",
    "    pairs: List = None\n",
    "    beacons: List = None"
   ]
  },
  {
   "cell_type": "code",
   "execution_count": 5,
   "id": "f8f25bd1",
   "metadata": {},
   "outputs": [],
   "source": [
    "@dataclass\n",
    "class Pair:\n",
    "    a: Tuple\n",
    "    b: Tuple\n",
    "    vec: Tuple = None"
   ]
  },
  {
   "cell_type": "code",
   "execution_count": 6,
   "id": "be84f7ab",
   "metadata": {},
   "outputs": [],
   "source": [
    "@dataclass\n",
    "class Overlap:\n",
    "    s1: int\n",
    "    s2: int\n",
    "    rotidx: int\n",
    "    cnt: int\n",
    "    ofs: Tuple = None"
   ]
  },
  {
   "cell_type": "code",
   "execution_count": 7,
   "id": "33a02fd2",
   "metadata": {},
   "outputs": [],
   "source": [
    "parse_scanners = lambda filename: parse(filename, lambda lines: mapt(ints, lines.split('\\n')[1:]), sep='\\n\\n')"
   ]
  },
  {
   "cell_type": "code",
   "execution_count": null,
   "id": "f78f9b94",
   "metadata": {},
   "outputs": [],
   "source": []
  },
  {
   "cell_type": "code",
   "execution_count": 8,
   "id": "b5c40465",
   "metadata": {},
   "outputs": [],
   "source": [
    "def sub(a, b):\n",
    "    return (a[0] - b[0], a[1] - b[1], a[2] - b[2])"
   ]
  },
  {
   "cell_type": "code",
   "execution_count": 9,
   "id": "2ec63b25",
   "metadata": {},
   "outputs": [],
   "source": [
    "def mnhdist(a, b):\n",
    "    return sum(abs(a[i] - b[i]) for i in (0,1,2))"
   ]
  },
  {
   "cell_type": "code",
   "execution_count": 10,
   "id": "1a871f1e",
   "metadata": {},
   "outputs": [],
   "source": [
    "@cache\n",
    "def make_rotated(x, y, z):\n",
    "    return (\n",
    "        (x, y, z), (x, z, -y), (x, -y, -z), (x, -z, y),\n",
    "        (-x, -y, z), (-x, -z, -y), (-x, y, -z), (-x, z, y),\n",
    "        (y, -x, z), (y, z, x), (y, x, -z), (y, -z, -x),\n",
    "        (-y, x, z), (-y, -z, x), (-y, -x, -z), (-y, z, -x),\n",
    "        (z, y, -x), (z, x, y), (z, -y, x), (z, -x, -y),\n",
    "        (-z, y, x), (-z, -x, y), (-z, -y, -x), (-z, x, -y)\n",
    "    )"
   ]
  },
  {
   "cell_type": "code",
   "execution_count": null,
   "id": "8d237962",
   "metadata": {},
   "outputs": [],
   "source": []
  },
  {
   "cell_type": "code",
   "execution_count": null,
   "id": "8aa87201",
   "metadata": {},
   "outputs": [],
   "source": []
  },
  {
   "cell_type": "code",
   "execution_count": 11,
   "id": "8fd2e852",
   "metadata": {},
   "outputs": [
    {
     "name": "stdout",
     "output_type": "stream",
     "text": [
      "----------------------------------------------------------------------------------------------------\n",
      "ex_rot.txt ➜ 314 chars, 39 lines; first 7 lines:\n",
      "----------------------------------------------------------------------------------------------------\n",
      "--- scanner 0 ---\n",
      "-1,-1,1\n",
      "-2,-2,2\n",
      "-3,-3,3\n",
      "-2,-3,1\n",
      "5,6,-4\n",
      "8,0,7\n",
      "----------------------------------------------------------------------------------------------------\n",
      "parse() ➜ 5 entries:\n",
      "----------------------------------------------------------------------------------------------------\n",
      "(((-1, -1, 1), (-2, -2, 2), (-3, -3, 3), (-2, -3, 1), (5, 6, -4), (8,  ... -6, -4, -5), (0, 7, -8)))\n",
      "----------------------------------------------------------------------------------------------------\n",
      "True\n",
      "True\n",
      "True\n",
      "True\n",
      "True\n",
      "True\n"
     ]
    }
   ],
   "source": [
    "# Check make_rotated on inputs from ex_rot.txt\n",
    "\n",
    "views = parse_scanners('ex_rot.txt')\n",
    "\n",
    "for points in transpose(views):\n",
    "    base = points[0]\n",
    "    rot = set(make_rotated(*points[0]))\n",
    "    rest = set(points[1:])\n",
    "    print(all(pt in rot for pt in rest))"
   ]
  },
  {
   "cell_type": "code",
   "execution_count": null,
   "id": "0f7ae6f0",
   "metadata": {},
   "outputs": [],
   "source": []
  },
  {
   "cell_type": "code",
   "execution_count": 12,
   "id": "3a920685",
   "metadata": {},
   "outputs": [
    {
     "name": "stdout",
     "output_type": "stream",
     "text": [
      "----------------------------------------------------------------------------------------------------\n",
      "example.txt ➜ 1790 chars, 136 lines; first 7 lines:\n",
      "----------------------------------------------------------------------------------------------------\n",
      "--- scanner 0 ---\n",
      "404,-588,-901\n",
      "528,-643,409\n",
      "-838,591,734\n",
      "390,-675,-793\n",
      "-537,-823,-458\n",
      "-485,-357,347\n",
      "----------------------------------------------------------------------------------------------------\n",
      "parse() ➜ 5 entries:\n",
      "----------------------------------------------------------------------------------------------------\n",
      "(((404, -588, -901), (528, -643, 409), (-838, 591, 734), (390, -675, - ... , -490), (30, -46, -14)))\n",
      "----------------------------------------------------------------------------------------------------\n"
     ]
    }
   ],
   "source": [
    "scanners = mapt(Scanner, parse_scanners('example.txt'))\n",
    "# scanners = mapt(Scanner, parse_scanners('input.txt'))"
   ]
  },
  {
   "cell_type": "code",
   "execution_count": 13,
   "id": "f865342f",
   "metadata": {},
   "outputs": [],
   "source": [
    "for s in scanners:\n",
    "    s.pairs = [Pair(a, b, sub(a, b)) for a, b in combinations(s.readings, 2)]"
   ]
  },
  {
   "cell_type": "code",
   "execution_count": 14,
   "id": "400bf0bd",
   "metadata": {
    "scrolled": true
   },
   "outputs": [
    {
     "name": "stdout",
     "output_type": "stream",
     "text": [
      "....."
     ]
    }
   ],
   "source": [
    "overlaps = []\n",
    "\n",
    "for i, base in enumerate(scanners):\n",
    "    print('.', end='')\n",
    "    for j, scanner in enumerate(scanners):\n",
    "#         if i >= j:\n",
    "        if i == j:\n",
    "            continue\n",
    "        rot_cnt = Counter()\n",
    "        for pair in scanner.pairs:\n",
    "            for k, d in enumerate(make_rotated(*pair.vec)):\n",
    "                for b in base.pairs:\n",
    "                    if b.vec == d:\n",
    "                        rot_cnt[k] += 1\n",
    "        if not rot_cnt:\n",
    "            continue\n",
    "        rot, cnt = rot_cnt.most_common(1)[0]\n",
    "        if cnt < 11:\n",
    "            continue\n",
    "\n",
    "        overlaps.append(Overlap(i, j, rot, cnt))"
   ]
  },
  {
   "cell_type": "code",
   "execution_count": 15,
   "id": "c60d5f93",
   "metadata": {
    "scrolled": false
   },
   "outputs": [
    {
     "name": "stdout",
     "output_type": "stream",
     "text": [
      ".........."
     ]
    }
   ],
   "source": [
    "for ov in overlaps:\n",
    "    print('.', end='')\n",
    "    s1 = scanners[ov.s1]\n",
    "    s2 = scanners[ov.s2]\n",
    "    rotidx = ov.rotidx\n",
    "\n",
    "    for p1 in s1.pairs:\n",
    "        for p2 in s2.pairs:\n",
    "            p2rot = make_rotated(*p2.vec)[rotidx]\n",
    "            if p2rot == p1.vec:\n",
    "                za = make_rotated(*p2.a)[rotidx]\n",
    "                zb = make_rotated(*p2.b)[rotidx]\n",
    "                ofs = sub(za, p1.a)\n",
    "                assert(ofs == sub(zb, p1.b))\n",
    "                if ov.ofs:\n",
    "                    assert(ofs == ov.ofs)\n",
    "                else:\n",
    "                    ov.ofs = ofs"
   ]
  },
  {
   "cell_type": "code",
   "execution_count": null,
   "id": "2a6b7434",
   "metadata": {},
   "outputs": [],
   "source": []
  },
  {
   "cell_type": "code",
   "execution_count": 16,
   "id": "5fb350a5",
   "metadata": {},
   "outputs": [],
   "source": [
    "overlapping_scanners = defaultdict(list)\n",
    "for ov in overlaps:\n",
    "    overlapping_scanners[ov.s1].append(ov.s2)\n",
    "    \n",
    "ovlookup = {(ov.s1, ov.s2): ov for ov in overlaps}"
   ]
  },
  {
   "cell_type": "code",
   "execution_count": 17,
   "id": "832d72a4",
   "metadata": {
    "scrolled": true
   },
   "outputs": [
    {
     "data": {
      "text/plain": [
       "{(0, 1): Overlap(s1=0, s2=1, rotidx=6, cnt=38, ofs=(-68, 1246, 43)),\n",
       " (1, 0): Overlap(s1=1, s2=0, rotidx=6, cnt=38, ofs=(-68, -1246, 43)),\n",
       " (1, 3): Overlap(s1=1, s2=3, rotidx=0, cnt=47, ofs=(-160, 1134, 23)),\n",
       " (1, 4): Overlap(s1=1, s2=4, rotidx=11, cnt=31, ofs=(-88, -113, 1104)),\n",
       " (2, 4): Overlap(s1=2, s2=4, rotidx=10, cnt=28, ofs=(-1125, 168, -72)),\n",
       " (3, 1): Overlap(s1=3, s2=1, rotidx=0, cnt=47, ofs=(160, -1134, -23)),\n",
       " (3, 4): Overlap(s1=3, s2=4, rotidx=11, cnt=11, ofs=(72, -1247, 1081)),\n",
       " (4, 1): Overlap(s1=4, s2=1, rotidx=23, cnt=31, ofs=(1104, 88, -113)),\n",
       " (4, 2): Overlap(s1=4, s2=2, rotidx=10, cnt=28, ofs=(-168, 1125, -72)),\n",
       " (4, 3): Overlap(s1=4, s2=3, rotidx=23, cnt=11, ofs=(1081, -72, -1247))}"
      ]
     },
     "execution_count": 17,
     "metadata": {},
     "output_type": "execute_result"
    }
   ],
   "source": [
    "ovlookup"
   ]
  },
  {
   "cell_type": "code",
   "execution_count": 18,
   "id": "78bdbe4f",
   "metadata": {},
   "outputs": [
    {
     "data": {
      "text/plain": [
       "defaultdict(list, {0: [1], 1: [0, 3, 4], 2: [4], 3: [1, 4], 4: [1, 2, 3]})"
      ]
     },
     "execution_count": 18,
     "metadata": {},
     "output_type": "execute_result"
    }
   ],
   "source": [
    "overlapping_scanners"
   ]
  },
  {
   "cell_type": "code",
   "execution_count": null,
   "id": "53c42c83",
   "metadata": {},
   "outputs": [],
   "source": []
  },
  {
   "cell_type": "code",
   "execution_count": 19,
   "id": "449c9a29",
   "metadata": {},
   "outputs": [],
   "source": [
    "def transform_point(p, rotidx, ofs):\n",
    "    prot = make_rotated(*p)[rotidx]\n",
    "    pmov = sub(prot, ofs)\n",
    "    return pmov"
   ]
  },
  {
   "cell_type": "code",
   "execution_count": 20,
   "id": "d5643766",
   "metadata": {},
   "outputs": [],
   "source": [
    "def merge_scanners(dest, src):\n",
    "    # uses globals: scanners, ovlookup\n",
    "    ov = ovlookup[(dest, src)]\n",
    "    \n",
    "    s1 = scanners[ov.s1]\n",
    "    s2 = scanners[ov.s2]\n",
    "    rotidx = ov.rotidx\n",
    "    ofs = ov.ofs\n",
    "\n",
    "    s1.beacons |= {transform_point(p, rotidx, ofs) for p in s2.beacons}\n",
    "    s2.beacons = set()\n",
    "    \n",
    "    s1.neighbors |= {transform_point(p, rotidx, ofs) for p in s2.neighbors}\n",
    "    s2.neighbors = set()"
   ]
  },
  {
   "cell_type": "code",
   "execution_count": null,
   "id": "5e26ac17",
   "metadata": {},
   "outputs": [],
   "source": []
  },
  {
   "cell_type": "code",
   "execution_count": 21,
   "id": "1b99623d",
   "metadata": {},
   "outputs": [
    {
     "name": "stdout",
     "output_type": "stream",
     "text": [
      "[25, 25, 26, 25, 26]\n",
      "[1, 1, 1, 1, 1]\n"
     ]
    }
   ],
   "source": [
    "for s in scanners:\n",
    "    s.beacons = set(s.readings)\n",
    "    s.neighbors = set(((0,0,0),))\n",
    "    \n",
    "print([len(scanners[i].beacons) for i in range(len(scanners))])\n",
    "print([len(scanners[i].neighbors) for i in range(len(scanners))])"
   ]
  },
  {
   "cell_type": "code",
   "execution_count": 22,
   "id": "a91fcf04",
   "metadata": {},
   "outputs": [
    {
     "name": "stdout",
     "output_type": "stream",
     "text": [
      "[79, 0, 0, 0, 0]\n",
      "[5, 0, 0, 0, 0]\n"
     ]
    }
   ],
   "source": [
    "def dfs_merge(g):\n",
    "    seen = set()\n",
    "    \n",
    "    def _dfs(n, p):\n",
    "        if n in seen:\n",
    "            return\n",
    "        seen.add(n)\n",
    "        for m in g[n]:\n",
    "            _dfs(m, n)\n",
    "\n",
    "        if p is not None:\n",
    "            merge_scanners(p, n)\n",
    "        \n",
    "    _dfs(0, None)\n",
    "\n",
    "dfs_merge(overlapping_scanners)\n",
    "print([len(scanners[i].beacons) for i in range(len(scanners))])\n",
    "print([len(scanners[i].neighbors) for i in range(len(scanners))])"
   ]
  },
  {
   "cell_type": "code",
   "execution_count": null,
   "id": "3a967dc3",
   "metadata": {},
   "outputs": [],
   "source": []
  },
  {
   "cell_type": "code",
   "execution_count": 23,
   "id": "5cc3617f",
   "metadata": {},
   "outputs": [
    {
     "name": "stdout",
     "output_type": "stream",
     "text": [
      "part 1 answer\n"
     ]
    },
    {
     "data": {
      "text/plain": [
       "79"
      ]
     },
     "execution_count": 23,
     "metadata": {},
     "output_type": "execute_result"
    }
   ],
   "source": [
    "print('part 1 answer')\n",
    "len(scanners[0].beacons)"
   ]
  },
  {
   "cell_type": "code",
   "execution_count": null,
   "id": "7af32fe5",
   "metadata": {},
   "outputs": [],
   "source": []
  },
  {
   "cell_type": "code",
   "execution_count": 24,
   "id": "d7208795",
   "metadata": {},
   "outputs": [
    {
     "name": "stdout",
     "output_type": "stream",
     "text": [
      "part 2 answer\n"
     ]
    },
    {
     "data": {
      "text/plain": [
       "3621"
      ]
     },
     "execution_count": 24,
     "metadata": {},
     "output_type": "execute_result"
    }
   ],
   "source": [
    "print('part 2 answer')\n",
    "\n",
    "max([mnhdist(a, b) for a,b in combinations(scanners[0].neighbors, 2)])"
   ]
  },
  {
   "cell_type": "code",
   "execution_count": null,
   "id": "54448787",
   "metadata": {},
   "outputs": [],
   "source": []
  }
 ],
 "metadata": {
  "kernelspec": {
   "display_name": "Python 3 (ipykernel)",
   "language": "python",
   "name": "python3"
  },
  "language_info": {
   "codemirror_mode": {
    "name": "ipython",
    "version": 3
   },
   "file_extension": ".py",
   "mimetype": "text/x-python",
   "name": "python",
   "nbconvert_exporter": "python",
   "pygments_lexer": "ipython3",
   "version": "3.9.9"
  }
 },
 "nbformat": 4,
 "nbformat_minor": 5
}
