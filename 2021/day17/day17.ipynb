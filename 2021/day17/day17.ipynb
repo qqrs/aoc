{
 "cells": [
  {
   "cell_type": "code",
   "execution_count": 1,
   "id": "5aaee5c7",
   "metadata": {},
   "outputs": [],
   "source": [
    "from math import sqrt"
   ]
  },
  {
   "cell_type": "code",
   "execution_count": 2,
   "id": "2a32eb3c",
   "metadata": {},
   "outputs": [],
   "source": [
    "import matplotlib.pyplot as plt\n",
    "from matplotlib.patches import Rectangle"
   ]
  },
  {
   "cell_type": "code",
   "execution_count": 3,
   "id": "17c157fd",
   "metadata": {},
   "outputs": [],
   "source": [
    "from collections import namedtuple\n",
    "ShotPath = namedtuple('ShotPath', ['vx0', 'vy0', 'xs', 'ys', 'is_hit'])"
   ]
  },
  {
   "cell_type": "code",
   "execution_count": null,
   "id": "6d10137d",
   "metadata": {},
   "outputs": [],
   "source": []
  },
  {
   "cell_type": "code",
   "execution_count": 47,
   "id": "d2c2b41d",
   "metadata": {},
   "outputs": [],
   "source": [
    "# filename = 'example.txt'\n",
    "filename = 'input.txt'"
   ]
  },
  {
   "cell_type": "code",
   "execution_count": 48,
   "id": "9fa1ebc6",
   "metadata": {},
   "outputs": [],
   "source": [
    "with open(filename) as f:\n",
    "    intxt = f.readline().rstrip()\n",
    "\n",
    "_, xtxt, ytxt = intxt.split('=')\n",
    "xtxt = xtxt.split(',')[0]"
   ]
  },
  {
   "cell_type": "code",
   "execution_count": 49,
   "id": "f3d3cdc0",
   "metadata": {},
   "outputs": [
    {
     "data": {
      "text/plain": [
       "([57, 116], [-198, -148])"
      ]
     },
     "execution_count": 49,
     "metadata": {},
     "output_type": "execute_result"
    }
   ],
   "source": [
    "tx, ty = [[int(v) for v in txt.split('..')] for txt in (xtxt, ytxt)]\n",
    "tx, ty"
   ]
  },
  {
   "cell_type": "code",
   "execution_count": 50,
   "id": "fbf66e67",
   "metadata": {},
   "outputs": [],
   "source": [
    "def draw_scene(tx, ty, shots):\n",
    "    fig, ax = plt.subplots()\n",
    "    draw_target(ax, tx, ty)\n",
    "    for shot in shots:\n",
    "        draw_shot(ax, shot)\n",
    "    plt.show()\n",
    "\n",
    "def draw_target(ax, tx, ty):\n",
    "    ax.add_patch(Rectangle((tx[0], ty[0]), tx[1]-tx[0], ty[1]-ty[0],\n",
    "                 edgecolor='black', facecolor='lightgrey'))\n",
    "    \n",
    "def draw_shot(ax, shot):\n",
    "    ax.plot(shot.xs, shot.ys, ':')\n",
    "    ax.scatter(shot.xs[-1], shot.ys[-1], marker='x' if shot.is_hit else '+')"
   ]
  },
  {
   "cell_type": "code",
   "execution_count": null,
   "id": "7d11132f",
   "metadata": {},
   "outputs": [],
   "source": []
  },
  {
   "cell_type": "code",
   "execution_count": 51,
   "id": "4269dc29",
   "metadata": {},
   "outputs": [],
   "source": [
    "def step(px, py, vx, vy):\n",
    "    px += vx\n",
    "    py += vy\n",
    "    vx = max(vx - 1, 0)\n",
    "    vy -= 1\n",
    "    return px, py, vx, vy\n",
    "\n",
    "def check_hit(tx, ty, px, py):\n",
    "    return tx[0] <= px <= tx[1] and ty[0] <= py <= ty[1]\n",
    "\n",
    "def run_shot(vx0, vy0):\n",
    "    vx, vy = vx0, vy0\n",
    "    px, py = 0, 0\n",
    "    is_hit = False\n",
    "    xs = [px]\n",
    "    ys = [py]\n",
    "    while not is_hit and px < tx[1] and py > ty[0]:\n",
    "        px, py, vx, vy = step(px, py, vx, vy)\n",
    "        xs.append(px)\n",
    "        ys.append(py)\n",
    "        is_hit = check_hit(tx, ty, px, py)\n",
    "    return ShotPath(vx0, vy0, xs, ys, is_hit)"
   ]
  },
  {
   "cell_type": "code",
   "execution_count": 52,
   "id": "35dfd840",
   "metadata": {},
   "outputs": [],
   "source": [
    "def vx0_for_max_x(max_x):\n",
    "    # xmax = sum(vx for vx in range(1, vx0+1))\n",
    "    # xmax = (vx0 * (vx0 + 1)) // 2\n",
    "    # vx0(xmax) => solve using quadratic formula\n",
    "    return (-1 + sqrt(1 + 8*max_x)) / 2"
   ]
  },
  {
   "cell_type": "code",
   "execution_count": null,
   "id": "7cc2862a",
   "metadata": {},
   "outputs": [],
   "source": []
  },
  {
   "cell_type": "code",
   "execution_count": 53,
   "id": "b988eddf",
   "metadata": {},
   "outputs": [
    {
     "data": {
      "text/plain": [
       "[(0, 0),\n",
       " (7, 2),\n",
       " (13, 3),\n",
       " (18, 3),\n",
       " (22, 2),\n",
       " (25, 0),\n",
       " (27, -3),\n",
       " (28, -7),\n",
       " (28, -12),\n",
       " (28, -18),\n",
       " (28, -25),\n",
       " (28, -33),\n",
       " (28, -42),\n",
       " (28, -52),\n",
       " (28, -63),\n",
       " (28, -75),\n",
       " (28, -88),\n",
       " (28, -102),\n",
       " (28, -117),\n",
       " (28, -133),\n",
       " (28, -150),\n",
       " (28, -168),\n",
       " (28, -187),\n",
       " (28, -207)]"
      ]
     },
     "execution_count": 53,
     "metadata": {},
     "output_type": "execute_result"
    }
   ],
   "source": [
    "shot = run_shot(7, 2)\n",
    "list(zip(shot.xs, shot.ys))"
   ]
  },
  {
   "cell_type": "code",
   "execution_count": null,
   "id": "3aeb67b5",
   "metadata": {},
   "outputs": [],
   "source": []
  },
  {
   "cell_type": "code",
   "execution_count": 54,
   "id": "8250e2fb",
   "metadata": {},
   "outputs": [
    {
     "data": {
      "text/plain": [
       "[10.188779163215974, 14.739750654128171]"
      ]
     },
     "execution_count": 54,
     "metadata": {},
     "output_type": "execute_result"
    }
   ],
   "source": [
    "[vx0_for_max_x(x) for x in tx]"
   ]
  },
  {
   "cell_type": "code",
   "execution_count": null,
   "id": "72690128",
   "metadata": {},
   "outputs": [],
   "source": []
  },
  {
   "cell_type": "code",
   "execution_count": null,
   "id": "e7bd5f31",
   "metadata": {},
   "outputs": [],
   "source": [
    "# pt1"
   ]
  },
  {
   "cell_type": "code",
   "execution_count": null,
   "id": "7c8d154a",
   "metadata": {},
   "outputs": [],
   "source": [
    "# example\n",
    "# trys = [(6, vy) for vy in range(1, 2000)]\n",
    "# shots = [run_shot(vx, vy) for vx, vy in trys]"
   ]
  },
  {
   "cell_type": "code",
   "execution_count": 55,
   "id": "f8dfaeb5",
   "metadata": {},
   "outputs": [],
   "source": [
    "#trys = [(vx, 50) for vx in range(10, 16)]\n",
    "trys = [(13, vy) for vy in range(96, 2000)]\n",
    "shots = [run_shot(vx, vy) for vx, vy in trys]"
   ]
  },
  {
   "cell_type": "code",
   "execution_count": 56,
   "id": "c0db5075",
   "metadata": {},
   "outputs": [],
   "source": [
    "shots = [shot for shot in shots if shot.is_hit]"
   ]
  },
  {
   "cell_type": "code",
   "execution_count": 58,
   "id": "35c954ba",
   "metadata": {},
   "outputs": [
    {
     "name": "stdout",
     "output_type": "stream",
     "text": [
      "[(13, 96), (13, 97), (13, 147), (13, 148), (13, 149), (13, 150), (13, 151), (13, 152), (13, 153), (13, 154), (13, 155), (13, 156), (13, 157), (13, 158), (13, 159), (13, 160), (13, 161), (13, 162), (13, 163), (13, 164), (13, 165), (13, 166), (13, 167), (13, 168), (13, 169), (13, 170), (13, 171), (13, 172), (13, 173), (13, 174), (13, 175), (13, 176), (13, 177), (13, 178), (13, 179), (13, 180), (13, 181), (13, 182), (13, 183), (13, 184), (13, 185), (13, 186), (13, 187), (13, 188), (13, 189), (13, 190), (13, 191), (13, 192), (13, 193), (13, 194), (13, 195), (13, 196), (13, 197)]\n"
     ]
    }
   ],
   "source": [
    "print([(shot.vx0, shot.vy0) for shot in shots])"
   ]
  },
  {
   "cell_type": "code",
   "execution_count": 16,
   "id": "feef7776",
   "metadata": {},
   "outputs": [
    {
     "data": {
      "image/png": "[encoded data removed]",
      "text/plain": [
       "<Figure size 432x288 with 1 Axes>"
      ]
     },
     "metadata": {
      "needs_background": "light"
     },
     "output_type": "display_data"
    }
   ],
   "source": [
    "draw_scene(tx, ty, shots)"
   ]
  },
  {
   "cell_type": "code",
   "execution_count": 17,
   "id": "a2d201f3",
   "metadata": {},
   "outputs": [
    {
     "data": {
      "text/plain": [
       "19503"
      ]
     },
     "execution_count": 17,
     "metadata": {},
     "output_type": "execute_result"
    }
   ],
   "source": [
    "max(shots[-1].ys)"
   ]
  },
  {
   "cell_type": "code",
   "execution_count": null,
   "id": "eedf8120",
   "metadata": {},
   "outputs": [],
   "source": []
  },
  {
   "cell_type": "code",
   "execution_count": null,
   "id": "a1c2764e",
   "metadata": {},
   "outputs": [],
   "source": [
    "# pt2 example"
   ]
  },
  {
   "cell_type": "code",
   "execution_count": 42,
   "id": "f41dc9b1",
   "metadata": {},
   "outputs": [],
   "source": [
    "trys = [(vx, vy) for vx in range(100) for vy in range(-10, 100)]\n",
    "#trys = [(6, vy) for vy in range(1, 2000)]\n",
    "shots = [run_shot(vx, vy) for vx, vy in trys]"
   ]
  },
  {
   "cell_type": "code",
   "execution_count": 43,
   "id": "d49d2137",
   "metadata": {},
   "outputs": [],
   "source": [
    "shots = [shot for shot in shots if shot.is_hit]"
   ]
  },
  {
   "cell_type": "code",
   "execution_count": 44,
   "id": "a9c07c90",
   "metadata": {},
   "outputs": [
    {
     "name": "stdout",
     "output_type": "stream",
     "text": [
      "[(0, 6), (1, 6), (2, 6), (3, 6), (4, 6), (5, 6), (6, 6), (7, 6), (8, 6), (9, 6), (-1, 7), (0, 7), (1, 7), (2, 7), (3, 7), (4, 7), (5, 7), (6, 7), (7, 7), (8, 7), (9, 7), (-2, 8), (-1, 8), (0, 8), (1, 8), (-2, 9), (-1, 9), (0, 9), (-2, 10), (-1, 10), (-4, 11), (-3, 11), (-2, 11), (-1, 11), (-4, 12), (-3, 12), (-2, 12), (-4, 13), (-3, 13), (-2, 13), (-4, 14), (-3, 14), (-2, 14), (-4, 15), (-3, 15), (-2, 15), (-10, 20), (-9, 20), (-8, 20), (-7, 20), (-6, 20), (-5, 20), (-10, 21), (-9, 21), (-8, 21), (-7, 21), (-6, 21), (-5, 21), (-10, 22), (-9, 22), (-8, 22), (-7, 22), (-6, 22), (-5, 22), (-10, 23), (-9, 23), (-8, 23), (-7, 23), (-6, 23), (-5, 23), (-10, 24), (-9, 24), (-8, 24), (-7, 24), (-6, 24), (-5, 24), (-10, 25), (-9, 25), (-8, 25), (-7, 25), (-6, 25), (-5, 25), (-10, 26), (-9, 26), (-8, 26), (-7, 26), (-6, 26), (-5, 26), (-10, 27), (-9, 27), (-8, 27), (-7, 27), (-6, 27), (-5, 27), (-10, 28), (-9, 28), (-8, 28), (-7, 28), (-6, 28), (-5, 28), (-10, 29), (-9, 29), (-8, 29), (-7, 29), (-6, 29), (-5, 29), (-10, 30), (-9, 30), (-8, 30), (-7, 30), (-6, 30), (-5, 30)]\n"
     ]
    }
   ],
   "source": [
    "print([(shot.vy0, shot.vx0) for shot in shots])"
   ]
  },
  {
   "cell_type": "code",
   "execution_count": 45,
   "id": "416f50e5",
   "metadata": {},
   "outputs": [
    {
     "data": {
      "image/png": "[encoded data removed]",
      "text/plain": [
       "<Figure size 432x288 with 1 Axes>"
      ]
     },
     "metadata": {
      "needs_background": "light"
     },
     "output_type": "display_data"
    }
   ],
   "source": [
    "draw_scene(tx, ty, shots)"
   ]
  },
  {
   "cell_type": "code",
   "execution_count": 46,
   "id": "88586be8",
   "metadata": {},
   "outputs": [
    {
     "data": {
      "text/plain": [
       "112"
      ]
     },
     "execution_count": 46,
     "metadata": {},
     "output_type": "execute_result"
    }
   ],
   "source": [
    "len(shots)"
   ]
  },
  {
   "cell_type": "code",
   "execution_count": null,
   "id": "2cf37596",
   "metadata": {},
   "outputs": [],
   "source": []
  },
  {
   "cell_type": "code",
   "execution_count": null,
   "id": "3e3e815d",
   "metadata": {},
   "outputs": [],
   "source": []
  },
  {
   "cell_type": "code",
   "execution_count": null,
   "id": "af97d416",
   "metadata": {},
   "outputs": [],
   "source": [
    "# pt2 example"
   ]
  },
  {
   "cell_type": "code",
   "execution_count": 59,
   "id": "a923fe09",
   "metadata": {},
   "outputs": [],
   "source": [
    "trys = [(vx, vy) for vx in range(200) for vy in range(-200, 200)]\n",
    "#trys = [(6, vy) for vy in range(1, 2000)]\n",
    "shots = [run_shot(vx, vy) for vx, vy in trys]"
   ]
  },
  {
   "cell_type": "code",
   "execution_count": 60,
   "id": "ff109831",
   "metadata": {},
   "outputs": [],
   "source": [
    "shots = [shot for shot in shots if shot.is_hit]"
   ]
  },
  {
   "cell_type": "code",
   "execution_count": 64,
   "id": "65bb463c",
   "metadata": {},
   "outputs": [],
   "source": [
    "#print([(shot.vy0, shot.vx0) for shot in shots])"
   ]
  },
  {
   "cell_type": "code",
   "execution_count": 65,
   "id": "7e9828f5",
   "metadata": {},
   "outputs": [],
   "source": [
    "#draw_scene(tx, ty, shots)"
   ]
  },
  {
   "cell_type": "code",
   "execution_count": 66,
   "id": "a1f70e7a",
   "metadata": {},
   "outputs": [
    {
     "data": {
      "text/plain": [
       "5200"
      ]
     },
     "execution_count": 66,
     "metadata": {},
     "output_type": "execute_result"
    }
   ],
   "source": [
    "len(shots)"
   ]
  },
  {
   "cell_type": "code",
   "execution_count": null,
   "id": "0b72277e",
   "metadata": {},
   "outputs": [],
   "source": []
  }
 ],
 "metadata": {
  "kernelspec": {
   "display_name": "Python 3 (ipykernel)",
   "language": "python",
   "name": "python3"
  },
  "language_info": {
   "codemirror_mode": {
    "name": "ipython",
    "version": 3
   },
   "file_extension": ".py",
   "mimetype": "text/x-python",
   "name": "python",
   "nbconvert_exporter": "python",
   "pygments_lexer": "ipython3",
   "version": "3.9.9"
  }
 },
 "nbformat": 4,
 "nbformat_minor": 5
}
