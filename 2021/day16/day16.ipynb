{
 "cells": [
  {
   "cell_type": "code",
   "execution_count": 135,
   "id": "c548d859",
   "metadata": {},
   "outputs": [],
   "source": [
    "from dataclasses import dataclass\n",
    "from math import prod"
   ]
  },
  {
   "cell_type": "code",
   "execution_count": 2,
   "id": "99117868",
   "metadata": {},
   "outputs": [],
   "source": [
    "#!pip install bitstruct\n",
    "import bitstruct"
   ]
  },
  {
   "cell_type": "code",
   "execution_count": 3,
   "id": "d2c2b41d",
   "metadata": {},
   "outputs": [],
   "source": [
    "# filename = 'example.txt'\n",
    "filename = 'input.txt'"
   ]
  },
  {
   "cell_type": "code",
   "execution_count": 4,
   "id": "9fa1ebc6",
   "metadata": {},
   "outputs": [],
   "source": [
    "with open(filename) as f:\n",
    "    intxt = f.readline().rstrip()"
   ]
  },
  {
   "cell_type": "code",
   "execution_count": 5,
   "id": "9aa7e695",
   "metadata": {},
   "outputs": [],
   "source": [
    "def decode_hex(hextxt):\n",
    "    return bytes.fromhex(hextxt)"
   ]
  },
  {
   "cell_type": "code",
   "execution_count": null,
   "id": "4b93fde6",
   "metadata": {},
   "outputs": [],
   "source": []
  },
  {
   "cell_type": "code",
   "execution_count": 140,
   "id": "94818d27",
   "metadata": {},
   "outputs": [],
   "source": [
    "@dataclass\n",
    "class Packet:\n",
    "    vx: int\n",
    "    tx: int\n",
    "        \n",
    "    def vsum(self) -> int:\n",
    "        raise NotImplementedError\n",
    "\n",
    "    def eval(self) -> int:\n",
    "        raise NotImplementedError\n",
    "        \n",
    "@dataclass\n",
    "class Literal(Packet):\n",
    "    v: int\n",
    "\n",
    "    def vsum(self) -> int:\n",
    "        return self.vx\n",
    "        \n",
    "    def eval(self) -> int:\n",
    "        return self.v\n",
    "        \n",
    "@dataclass\n",
    "class Operator(Packet):\n",
    "    sp: list[int]\n",
    "\n",
    "    def vsum(self) -> int:\n",
    "        return self.vx + sum(p.vsum() for p in self.sp)\n",
    " \n",
    "    def eval(self) -> int:\n",
    "        args = [p.eval() for p in self.sp]\n",
    "        \n",
    "        if self.tx == 0:\n",
    "            return sum(args)\n",
    "        elif self.tx == 1:\n",
    "            return prod(args)\n",
    "        elif self.tx == 2:\n",
    "            return min(args)\n",
    "        elif self.tx == 3:\n",
    "            return max(args)\n",
    "        elif self.tx == 5:\n",
    "            return int(args[0] > args[1])\n",
    "        elif self.tx == 6:\n",
    "            return int(args[0] < args[1])\n",
    "        elif self.tx == 7:\n",
    "            return int(args[0] == args[1])\n",
    "        else:\n",
    "            raise Exception()"
   ]
  },
  {
   "cell_type": "code",
   "execution_count": 125,
   "id": "ae9da7f0",
   "metadata": {},
   "outputs": [],
   "source": [
    "class PacketSlice:\n",
    "    def __init__(self, packet):\n",
    "        self.packet = packet\n",
    "        self.ofs = 0\n",
    "    \n",
    "    @classmethod\n",
    "    def fromhex(cls, hextxt):\n",
    "        return cls(bytes.fromhex(hextxt))\n",
    "    \n",
    "    def unpack(self, fmt):\n",
    "        fields = bitstruct.unpack_from(fmt, self.packet, self.ofs)\n",
    "        self.ofs += bitstruct.calcsize(fmt)\n",
    "        return fields\n",
    "    \n",
    "    def parse_header(self):\n",
    "        return self.unpack('u3u3')\n",
    "\n",
    "    def parse_literal(self):\n",
    "        has_more = True\n",
    "        payload = 0\n",
    "        while has_more:\n",
    "            has_more, nibble = self.unpack('b1u4')\n",
    "            payload <<= 4\n",
    "            payload |= nibble\n",
    "        return payload\n",
    "\n",
    "    def parse_operator(self):\n",
    "        (ltid,) = self.unpack('b1')\n",
    "        subpackets = []\n",
    "        if not ltid:\n",
    "            (bitlen,) = self.unpack('u15')\n",
    "            start_ofs = self.ofs\n",
    "            while self.ofs < start_ofs + bitlen:\n",
    "                subpackets.append(self.parse())\n",
    "        else:\n",
    "            (num_subpackets,) = self.unpack('u11')\n",
    "            for _ in range(num_subpackets):\n",
    "                subpackets.append(self.parse())\n",
    "\n",
    "        return subpackets\n",
    "    \n",
    "    def parse(self):\n",
    "        version, type_id = self.parse_header()\n",
    "\n",
    "        if type_id == 4:\n",
    "            return Literal(version, type_id, self.parse_literal())\n",
    "        else:\n",
    "            return Operator(version, type_id, self.parse_operator())"
   ]
  },
  {
   "cell_type": "code",
   "execution_count": null,
   "id": "7ab6ddb5",
   "metadata": {},
   "outputs": [],
   "source": []
  },
  {
   "cell_type": "code",
   "execution_count": null,
   "id": "241f3e42",
   "metadata": {},
   "outputs": [],
   "source": []
  },
  {
   "cell_type": "code",
   "execution_count": null,
   "id": "665fbf49",
   "metadata": {},
   "outputs": [],
   "source": []
  },
  {
   "cell_type": "code",
   "execution_count": 94,
   "id": "e65e4f3a",
   "metadata": {},
   "outputs": [
    {
     "name": "stdout",
     "output_type": "stream",
     "text": [
      "(6, 4)\n",
      "2021\n"
     ]
    }
   ],
   "source": [
    "packet = PacketSlice.fromhex('D2FE28')\n",
    "print(packet.parse_header())\n",
    "print(packet.parse_literal())"
   ]
  },
  {
   "cell_type": "code",
   "execution_count": 95,
   "id": "c7d1b187",
   "metadata": {},
   "outputs": [
    {
     "data": {
      "text/plain": [
       "Literal(vx=6, v=2021)"
      ]
     },
     "execution_count": 95,
     "metadata": {},
     "output_type": "execute_result"
    }
   ],
   "source": [
    "packet = PacketSlice.fromhex('D2FE28')\n",
    "packet.parse()"
   ]
  },
  {
   "cell_type": "code",
   "execution_count": 96,
   "id": "fa3e5972",
   "metadata": {},
   "outputs": [
    {
     "data": {
      "text/plain": [
       "Operator(vx=1, sp=[Literal(vx=6, v=10), Literal(vx=2, v=20)])"
      ]
     },
     "execution_count": 96,
     "metadata": {},
     "output_type": "execute_result"
    }
   ],
   "source": [
    "packet = PacketSlice.fromhex('38006F45291200')\n",
    "packet.parse()"
   ]
  },
  {
   "cell_type": "code",
   "execution_count": 97,
   "id": "c4f09761",
   "metadata": {},
   "outputs": [
    {
     "data": {
      "text/plain": [
       "Operator(vx=7, sp=[Literal(vx=2, v=1), Literal(vx=4, v=2), Literal(vx=1, v=3)])"
      ]
     },
     "execution_count": 97,
     "metadata": {},
     "output_type": "execute_result"
    }
   ],
   "source": [
    "packet = PacketSlice.fromhex('EE00D40C823060')\n",
    "packet.parse()"
   ]
  },
  {
   "cell_type": "code",
   "execution_count": null,
   "id": "41b598b0",
   "metadata": {},
   "outputs": [],
   "source": []
  },
  {
   "cell_type": "code",
   "execution_count": 98,
   "id": "df63978c",
   "metadata": {},
   "outputs": [
    {
     "data": {
      "text/plain": [
       "Operator(vx=4, sp=[Operator(vx=1, sp=[Operator(vx=5, sp=[Literal(vx=6, v=15)])])])"
      ]
     },
     "execution_count": 98,
     "metadata": {},
     "output_type": "execute_result"
    }
   ],
   "source": [
    "PacketSlice.fromhex('8A004A801A8002F478').parse()"
   ]
  },
  {
   "cell_type": "code",
   "execution_count": 99,
   "id": "805eb450",
   "metadata": {},
   "outputs": [
    {
     "data": {
      "text/plain": [
       "Operator(vx=3, sp=[Operator(vx=0, sp=[Literal(vx=0, v=10), Literal(vx=5, v=11)]), Operator(vx=1, sp=[Literal(vx=0, v=12), Literal(vx=3, v=13)])])"
      ]
     },
     "execution_count": 99,
     "metadata": {},
     "output_type": "execute_result"
    }
   ],
   "source": [
    "PacketSlice.fromhex('620080001611562C8802118E34').parse()"
   ]
  },
  {
   "cell_type": "code",
   "execution_count": 100,
   "id": "72fad594",
   "metadata": {},
   "outputs": [
    {
     "data": {
      "text/plain": [
       "Operator(vx=6, sp=[Operator(vx=0, sp=[Literal(vx=0, v=10), Literal(vx=6, v=11)]), Operator(vx=4, sp=[Literal(vx=7, v=12), Literal(vx=0, v=13)])])"
      ]
     },
     "execution_count": 100,
     "metadata": {},
     "output_type": "execute_result"
    }
   ],
   "source": [
    "PacketSlice.fromhex('C0015000016115A2E0802F182340').parse()"
   ]
  },
  {
   "cell_type": "code",
   "execution_count": 101,
   "id": "182d6973",
   "metadata": {},
   "outputs": [
    {
     "data": {
      "text/plain": [
       "Operator(vx=5, sp=[Operator(vx=1, sp=[Operator(vx=3, sp=[Literal(vx=7, v=6), Literal(vx=6, v=6), Literal(vx=5, v=12), Literal(vx=2, v=15), Literal(vx=2, v=15)])])])"
      ]
     },
     "execution_count": 101,
     "metadata": {},
     "output_type": "execute_result"
    }
   ],
   "source": [
    "PacketSlice.fromhex('A0016C880162017C3686B18A3D4780').parse()"
   ]
  },
  {
   "cell_type": "code",
   "execution_count": null,
   "id": "a18c1312",
   "metadata": {},
   "outputs": [],
   "source": []
  },
  {
   "cell_type": "code",
   "execution_count": 112,
   "id": "9c678518",
   "metadata": {},
   "outputs": [],
   "source": [
    "def packetsum(hexp):\n",
    "    def helpsum(packet):\n",
    "        if isinstance(packet, Literal):\n",
    "            return packet.vx\n",
    "        else:\n",
    "            return packet.vx + sum(helpsum(p) for p in packet.sp)\n",
    "        \n",
    "    packet = PacketSlice.fromhex(hexp).parse()\n",
    "    return helpsum(packet)"
   ]
  },
  {
   "cell_type": "code",
   "execution_count": 113,
   "id": "16d69a6c",
   "metadata": {},
   "outputs": [
    {
     "data": {
      "text/plain": [
       "16"
      ]
     },
     "execution_count": 113,
     "metadata": {},
     "output_type": "execute_result"
    }
   ],
   "source": [
    "packetsum('8A004A801A8002F478')"
   ]
  },
  {
   "cell_type": "code",
   "execution_count": 114,
   "id": "d3caafb3",
   "metadata": {},
   "outputs": [
    {
     "data": {
      "text/plain": [
       "12"
      ]
     },
     "execution_count": 114,
     "metadata": {},
     "output_type": "execute_result"
    }
   ],
   "source": [
    "packetsum('620080001611562C8802118E34')"
   ]
  },
  {
   "cell_type": "code",
   "execution_count": 115,
   "id": "fc2548b4",
   "metadata": {},
   "outputs": [
    {
     "data": {
      "text/plain": [
       "23"
      ]
     },
     "execution_count": 115,
     "metadata": {},
     "output_type": "execute_result"
    }
   ],
   "source": [
    "packetsum('C0015000016115A2E0802F182340')"
   ]
  },
  {
   "cell_type": "code",
   "execution_count": 116,
   "id": "a440086e",
   "metadata": {},
   "outputs": [
    {
     "data": {
      "text/plain": [
       "31"
      ]
     },
     "execution_count": 116,
     "metadata": {},
     "output_type": "execute_result"
    }
   ],
   "source": [
    "packetsum('A0016C880162017C3686B18A3D4780')"
   ]
  },
  {
   "cell_type": "code",
   "execution_count": 117,
   "id": "b01cb94d",
   "metadata": {},
   "outputs": [
    {
     "data": {
      "text/plain": [
       "883"
      ]
     },
     "execution_count": 117,
     "metadata": {},
     "output_type": "execute_result"
    }
   ],
   "source": [
    "packetsum(intxt)"
   ]
  },
  {
   "cell_type": "code",
   "execution_count": null,
   "id": "e33eb78f",
   "metadata": {},
   "outputs": [],
   "source": []
  },
  {
   "cell_type": "code",
   "execution_count": 123,
   "id": "958e2718",
   "metadata": {},
   "outputs": [
    {
     "data": {
      "text/plain": [
       "[6, 9, 14, 16, 12, 23, 31]"
      ]
     },
     "execution_count": 123,
     "metadata": {},
     "output_type": "execute_result"
    }
   ],
   "source": [
    "[PacketSlice.fromhex(hext).parse().vsum() for hext in [\n",
    "    'D2FE28',\n",
    "    '38006F45291200',\n",
    "    'EE00D40C823060',\n",
    "    '8A004A801A8002F478',\n",
    "    '620080001611562C8802118E34',\n",
    "    'C0015000016115A2E0802F182340',\n",
    "    'A0016C880162017C3686B18A3D4780'\n",
    "]]"
   ]
  },
  {
   "cell_type": "code",
   "execution_count": 144,
   "id": "48ac5083",
   "metadata": {},
   "outputs": [
    {
     "data": {
      "text/plain": [
       "[3, 54, 7, 9, 1, 0, 0, 1]"
      ]
     },
     "execution_count": 144,
     "metadata": {},
     "output_type": "execute_result"
    }
   ],
   "source": [
    "[PacketSlice.fromhex(hext).parse().eval() for hext in [\n",
    "    'C200B40A82',\n",
    "    '04005AC33890',\n",
    "    '880086C3E88112',\n",
    "    'CE00C43D881120',\n",
    "    'D8005AC2A8F0',\n",
    "    'F600BC2D8F',\n",
    "    '9C005AC2F8F0',\n",
    "    '9C0141080250320F1802104A08'\n",
    "]]"
   ]
  },
  {
   "cell_type": "code",
   "execution_count": 145,
   "id": "7b7f0935",
   "metadata": {},
   "outputs": [
    {
     "data": {
      "text/plain": [
       "1675198555015"
      ]
     },
     "execution_count": 145,
     "metadata": {},
     "output_type": "execute_result"
    }
   ],
   "source": [
    "PacketSlice.fromhex(intxt).parse().eval()"
   ]
  },
  {
   "cell_type": "code",
   "execution_count": null,
   "id": "ebcca39e",
   "metadata": {},
   "outputs": [],
   "source": []
  }
 ],
 "metadata": {
  "kernelspec": {
   "display_name": "Python 3 (ipykernel)",
   "language": "python",
   "name": "python3"
  },
  "language_info": {
   "codemirror_mode": {
    "name": "ipython",
    "version": 3
   },
   "file_extension": ".py",
   "mimetype": "text/x-python",
   "name": "python",
   "nbconvert_exporter": "python",
   "pygments_lexer": "ipython3",
   "version": "3.9.9"
  }
 },
 "nbformat": 4,
 "nbformat_minor": 5
}
